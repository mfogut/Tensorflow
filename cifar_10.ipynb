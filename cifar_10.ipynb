{
 "cells": [
  {
   "cell_type": "code",
   "execution_count": 1,
   "metadata": {},
   "outputs": [],
   "source": [
    "import pandas as pd\n",
    "import numpy as np\n",
    "import matplotlib.pyplot as plt"
   ]
  },
  {
   "cell_type": "code",
   "execution_count": 2,
   "metadata": {},
   "outputs": [],
   "source": [
    "from tensorflow.keras.datasets import cifar10"
   ]
  },
  {
   "cell_type": "code",
   "execution_count": 3,
   "metadata": {},
   "outputs": [],
   "source": [
    "(x_train, y_train), (x_test, y_test) = cifar10.load_data()"
   ]
  },
  {
   "cell_type": "code",
   "execution_count": 4,
   "metadata": {},
   "outputs": [
    {
     "name": "stdout",
     "output_type": "stream",
     "text": [
      "x_train shape : (50000, 32, 32, 3)\n",
      "y_train shape : (50000, 1)\n",
      "x_test shape  : (10000, 32, 32, 3)\n",
      "y_test shape  : (10000, 1)\n"
     ]
    }
   ],
   "source": [
    "print('x_train shape :',x_train.shape)\n",
    "print('y_train shape :', y_train.shape)\n",
    "print('x_test shape  :', x_test.shape)\n",
    "print('y_test shape  :',y_test.shape)"
   ]
  },
  {
   "cell_type": "code",
   "execution_count": 5,
   "metadata": {},
   "outputs": [
    {
     "data": {
      "text/plain": [
       "(32, 32, 3)"
      ]
     },
     "execution_count": 5,
     "metadata": {},
     "output_type": "execute_result"
    }
   ],
   "source": [
    "#shape of single image\n",
    "x_train[0].shape"
   ]
  },
  {
   "cell_type": "code",
   "execution_count": 6,
   "metadata": {},
   "outputs": [
    {
     "data": {
      "text/plain": [
       "<matplotlib.image.AxesImage at 0x275112dec08>"
      ]
     },
     "execution_count": 6,
     "metadata": {},
     "output_type": "execute_result"
    },
    {
     "data": {
      "image/png": "[encoded data removed]",
      "text/plain": [
       "<Figure size 432x288 with 1 Axes>"
      ]
     },
     "metadata": {
      "needs_background": "light"
     },
     "output_type": "display_data"
    }
   ],
   "source": [
    "plt.imshow(x_train[12])"
   ]
  },
  {
   "cell_type": "code",
   "execution_count": 7,
   "metadata": {},
   "outputs": [
    {
     "data": {
      "text/plain": [
       "255"
      ]
     },
     "execution_count": 7,
     "metadata": {},
     "output_type": "execute_result"
    }
   ],
   "source": [
    "x_train.max()"
   ]
  },
  {
   "cell_type": "code",
   "execution_count": 8,
   "metadata": {},
   "outputs": [],
   "source": [
    "#normalize the data\n",
    "x_train = x_train/255\n",
    "x_test = x_test/255"
   ]
  },
  {
   "cell_type": "code",
   "execution_count": 9,
   "metadata": {},
   "outputs": [
    {
     "data": {
      "text/plain": [
       "1.0"
      ]
     },
     "execution_count": 9,
     "metadata": {},
     "output_type": "execute_result"
    }
   ],
   "source": [
    "x_train.max()"
   ]
  },
  {
   "cell_type": "code",
   "execution_count": 10,
   "metadata": {},
   "outputs": [
    {
     "data": {
      "text/plain": [
       "1.0"
      ]
     },
     "execution_count": 10,
     "metadata": {},
     "output_type": "execute_result"
    }
   ],
   "source": [
    "x_test.max()"
   ]
  },
  {
   "cell_type": "code",
   "execution_count": 11,
   "metadata": {},
   "outputs": [],
   "source": [
    "from tensorflow.keras.utils import to_categorical"
   ]
  },
  {
   "cell_type": "code",
   "execution_count": 12,
   "metadata": {},
   "outputs": [
    {
     "data": {
      "text/plain": [
       "array([3], dtype=uint8)"
      ]
     },
     "execution_count": 12,
     "metadata": {},
     "output_type": "execute_result"
    }
   ],
   "source": [
    "y_test[0]"
   ]
  },
  {
   "cell_type": "code",
   "execution_count": 13,
   "metadata": {},
   "outputs": [],
   "source": [
    "y_train_cat = to_categorical(y=y_train, num_classes=10)"
   ]
  },
  {
   "cell_type": "code",
   "execution_count": 14,
   "metadata": {},
   "outputs": [],
   "source": [
    "y_test_cat = to_categorical(y=y_test, num_classes=10)"
   ]
  },
  {
   "cell_type": "code",
   "execution_count": 15,
   "metadata": {},
   "outputs": [
    {
     "data": {
      "text/plain": [
       "array([6], dtype=uint8)"
      ]
     },
     "execution_count": 15,
     "metadata": {},
     "output_type": "execute_result"
    }
   ],
   "source": [
    "y_train[0]"
   ]
  },
  {
   "cell_type": "code",
   "execution_count": 16,
   "metadata": {},
   "outputs": [
    {
     "data": {
      "text/plain": [
       "<matplotlib.image.AxesImage at 0x27505e17a48>"
      ]
     },
     "execution_count": 16,
     "metadata": {},
     "output_type": "execute_result"
    },
    {
     "data": {
      "image/png": "[encoded data removed]",
      "text/plain": [
       "<Figure size 432x288 with 1 Axes>"
      ]
     },
     "metadata": {
      "needs_background": "light"
     },
     "output_type": "display_data"
    }
   ],
   "source": [
    "plt.imshow(X=x_train[0])"
   ]
  },
  {
   "cell_type": "code",
   "execution_count": 17,
   "metadata": {},
   "outputs": [],
   "source": [
    "from tensorflow.keras.models import Sequential\n",
    "from tensorflow.keras.layers import Dense, Dropout, Flatten, Conv2D, MaxPool2D"
   ]
  },
  {
   "cell_type": "code",
   "execution_count": 18,
   "metadata": {},
   "outputs": [],
   "source": [
    "model = Sequential()\n",
    "\n",
    "model.add(Conv2D(filters=32, kernel_size=(4,4), input_shape=(32,32,3), activation='relu' )) #Convolutinal layer\n",
    "model.add(MaxPool2D(pool_size=(2,2) )) #Pooling layer\n",
    "\n",
    "model.add(Conv2D(filters=32, kernel_size=(4,4), input_shape=(32,32,3), activation='relu' ))\n",
    "model.add(MaxPool2D(pool_size=(2,2) ))\n",
    "\n",
    "model.add(Flatten())\n",
    "model.add(Dense(units=256, activation='relu')) #hidden layer\n",
    "\n",
    "model.add(Dense(units=10, activation='softmax' )) #output layer\n",
    "\n",
    "model.compile(loss='categorical_crossentropy', optimizer='adam', metrics=['accuracy'])"
   ]
  },
  {
   "cell_type": "code",
   "execution_count": 19,
   "metadata": {},
   "outputs": [
    {
     "name": "stdout",
     "output_type": "stream",
     "text": [
      "Model: \"sequential\"\n",
      "_________________________________________________________________\n",
      "Layer (type)                 Output Shape              Param #   \n",
      "=================================================================\n",
      "conv2d (Conv2D)              (None, 29, 29, 32)        1568      \n",
      "_________________________________________________________________\n",
      "max_pooling2d (MaxPooling2D) (None, 14, 14, 32)        0         \n",
      "_________________________________________________________________\n",
      "conv2d_1 (Conv2D)            (None, 11, 11, 32)        16416     \n",
      "_________________________________________________________________\n",
      "max_pooling2d_1 (MaxPooling2 (None, 5, 5, 32)          0         \n",
      "_________________________________________________________________\n",
      "flatten (Flatten)            (None, 800)               0         \n",
      "_________________________________________________________________\n",
      "dense (Dense)                (None, 256)               205056    \n",
      "_________________________________________________________________\n",
      "dense_1 (Dense)              (None, 10)                2570      \n",
      "=================================================================\n",
      "Total params: 225,610\n",
      "Trainable params: 225,610\n",
      "Non-trainable params: 0\n",
      "_________________________________________________________________\n"
     ]
    }
   ],
   "source": [
    "model.summary()"
   ]
  },
  {
   "cell_type": "code",
   "execution_count": 20,
   "metadata": {},
   "outputs": [],
   "source": [
    "from tensorflow.keras.callbacks import EarlyStopping"
   ]
  },
  {
   "cell_type": "code",
   "execution_count": 21,
   "metadata": {},
   "outputs": [],
   "source": [
    "early_stop = EarlyStopping(monitor='val_loss', patience=10)"
   ]
  },
  {
   "cell_type": "code",
   "execution_count": 22,
   "metadata": {
    "scrolled": true
   },
   "outputs": [
    {
     "name": "stdout",
     "output_type": "stream",
     "text": [
      "Train on 50000 samples, validate on 10000 samples\n",
      "Epoch 1/50\n",
      "50000/50000 [==============================] - 8s 165us/sample - loss: 1.5081 - accuracy: 0.4545 - val_loss: 1.3042 - val_accuracy: 0.5385\n",
      "Epoch 2/50\n",
      "50000/50000 [==============================] - 6s 127us/sample - loss: 1.1872 - accuracy: 0.5814 - val_loss: 1.1508 - val_accuracy: 0.5929\n",
      "Epoch 3/50\n",
      "50000/50000 [==============================] - 6s 124us/sample - loss: 1.0452 - accuracy: 0.6315 - val_loss: 1.0498 - val_accuracy: 0.6325\n",
      "Epoch 4/50\n",
      "50000/50000 [==============================] - 6s 123us/sample - loss: 0.9300 - accuracy: 0.6751 - val_loss: 1.0366 - val_accuracy: 0.6379\n",
      "Epoch 5/50\n",
      "50000/50000 [==============================] - 6s 126us/sample - loss: 0.8479 - accuracy: 0.7033 - val_loss: 1.0072 - val_accuracy: 0.6539\n",
      "Epoch 6/50\n",
      "50000/50000 [==============================] - 6s 127us/sample - loss: 0.7693 - accuracy: 0.7306 - val_loss: 1.0501 - val_accuracy: 0.6441\n",
      "Epoch 7/50\n",
      "50000/50000 [==============================] - 6s 129us/sample - loss: 0.6994 - accuracy: 0.7551 - val_loss: 0.9966 - val_accuracy: 0.6597\n",
      "Epoch 8/50\n",
      "50000/50000 [==============================] - 6s 128us/sample - loss: 0.6322 - accuracy: 0.7788 - val_loss: 1.1121 - val_accuracy: 0.6468\n",
      "Epoch 9/50\n",
      "50000/50000 [==============================] - 6s 128us/sample - loss: 0.5679 - accuracy: 0.8016 - val_loss: 1.0805 - val_accuracy: 0.6736\n",
      "Epoch 10/50\n",
      "50000/50000 [==============================] - 6s 129us/sample - loss: 0.5083 - accuracy: 0.8225 - val_loss: 1.1094 - val_accuracy: 0.6603\n",
      "Epoch 11/50\n",
      "50000/50000 [==============================] - 6s 129us/sample - loss: 0.4537 - accuracy: 0.8418 - val_loss: 1.2041 - val_accuracy: 0.6576\n",
      "Epoch 12/50\n",
      "50000/50000 [==============================] - 6s 128us/sample - loss: 0.4085 - accuracy: 0.8556 - val_loss: 1.2840 - val_accuracy: 0.6600\n",
      "Epoch 13/50\n",
      "50000/50000 [==============================] - 6s 128us/sample - loss: 0.3560 - accuracy: 0.8740 - val_loss: 1.3010 - val_accuracy: 0.6626\n",
      "Epoch 14/50\n",
      "50000/50000 [==============================] - 6s 129us/sample - loss: 0.3217 - accuracy: 0.8857 - val_loss: 1.4065 - val_accuracy: 0.6597\n",
      "Epoch 15/50\n",
      "50000/50000 [==============================] - 7s 140us/sample - loss: 0.2876 - accuracy: 0.8972 - val_loss: 1.5726 - val_accuracy: 0.6548\n",
      "Epoch 16/50\n",
      "50000/50000 [==============================] - 7s 147us/sample - loss: 0.2545 - accuracy: 0.9089 - val_loss: 1.6588 - val_accuracy: 0.6581\n",
      "Epoch 17/50\n",
      "50000/50000 [==============================] - 7s 139us/sample - loss: 0.2323 - accuracy: 0.9167 - val_loss: 1.7541 - val_accuracy: 0.6474\n"
     ]
    },
    {
     "data": {
      "text/plain": [
       "<tensorflow.python.keras.callbacks.History at 0x2757e9bdc48>"
      ]
     },
     "execution_count": 22,
     "metadata": {},
     "output_type": "execute_result"
    }
   ],
   "source": [
    "model.fit(x=x_train, y=y_train_cat, validation_data=(x_test, y_test_cat), epochs=50, callbacks=[early_stop] )"
   ]
  },
  {
   "cell_type": "code",
   "execution_count": 23,
   "metadata": {},
   "outputs": [],
   "source": [
    "metrics = pd.DataFrame(model.history.history)"
   ]
  },
  {
   "cell_type": "code",
   "execution_count": 24,
   "metadata": {},
   "outputs": [
    {
     "data": {
      "text/html": [
       "<div>\n",
       "<style scoped>\n",
       "    .dataframe tbody tr th:only-of-type {\n",
       "        vertical-align: middle;\n",
       "    }\n",
       "\n",
       "    .dataframe tbody tr th {\n",
       "        vertical-align: top;\n",
       "    }\n",
       "\n",
       "    .dataframe thead th {\n",
       "        text-align: right;\n",
       "    }\n",
       "</style>\n",
       "<table border=\"1\" class=\"dataframe\">\n",
       "  <thead>\n",
       "    <tr style=\"text-align: right;\">\n",
       "      <th></th>\n",
       "      <th>loss</th>\n",
       "      <th>accuracy</th>\n",
       "      <th>val_loss</th>\n",
       "      <th>val_accuracy</th>\n",
       "    </tr>\n",
       "  </thead>\n",
       "  <tbody>\n",
       "    <tr>\n",
       "      <th>0</th>\n",
       "      <td>1.508087</td>\n",
       "      <td>0.45452</td>\n",
       "      <td>1.304220</td>\n",
       "      <td>0.5385</td>\n",
       "    </tr>\n",
       "    <tr>\n",
       "      <th>1</th>\n",
       "      <td>1.187231</td>\n",
       "      <td>0.58138</td>\n",
       "      <td>1.150802</td>\n",
       "      <td>0.5929</td>\n",
       "    </tr>\n",
       "    <tr>\n",
       "      <th>2</th>\n",
       "      <td>1.045229</td>\n",
       "      <td>0.63148</td>\n",
       "      <td>1.049765</td>\n",
       "      <td>0.6325</td>\n",
       "    </tr>\n",
       "    <tr>\n",
       "      <th>3</th>\n",
       "      <td>0.929997</td>\n",
       "      <td>0.67514</td>\n",
       "      <td>1.036611</td>\n",
       "      <td>0.6379</td>\n",
       "    </tr>\n",
       "    <tr>\n",
       "      <th>4</th>\n",
       "      <td>0.847946</td>\n",
       "      <td>0.70330</td>\n",
       "      <td>1.007174</td>\n",
       "      <td>0.6539</td>\n",
       "    </tr>\n",
       "    <tr>\n",
       "      <th>5</th>\n",
       "      <td>0.769262</td>\n",
       "      <td>0.73062</td>\n",
       "      <td>1.050106</td>\n",
       "      <td>0.6441</td>\n",
       "    </tr>\n",
       "    <tr>\n",
       "      <th>6</th>\n",
       "      <td>0.699428</td>\n",
       "      <td>0.75514</td>\n",
       "      <td>0.996589</td>\n",
       "      <td>0.6597</td>\n",
       "    </tr>\n",
       "    <tr>\n",
       "      <th>7</th>\n",
       "      <td>0.632154</td>\n",
       "      <td>0.77878</td>\n",
       "      <td>1.112133</td>\n",
       "      <td>0.6468</td>\n",
       "    </tr>\n",
       "    <tr>\n",
       "      <th>8</th>\n",
       "      <td>0.567895</td>\n",
       "      <td>0.80162</td>\n",
       "      <td>1.080536</td>\n",
       "      <td>0.6736</td>\n",
       "    </tr>\n",
       "    <tr>\n",
       "      <th>9</th>\n",
       "      <td>0.508268</td>\n",
       "      <td>0.82252</td>\n",
       "      <td>1.109418</td>\n",
       "      <td>0.6603</td>\n",
       "    </tr>\n",
       "    <tr>\n",
       "      <th>10</th>\n",
       "      <td>0.453684</td>\n",
       "      <td>0.84176</td>\n",
       "      <td>1.204062</td>\n",
       "      <td>0.6576</td>\n",
       "    </tr>\n",
       "    <tr>\n",
       "      <th>11</th>\n",
       "      <td>0.408469</td>\n",
       "      <td>0.85558</td>\n",
       "      <td>1.284017</td>\n",
       "      <td>0.6600</td>\n",
       "    </tr>\n",
       "    <tr>\n",
       "      <th>12</th>\n",
       "      <td>0.356015</td>\n",
       "      <td>0.87396</td>\n",
       "      <td>1.300956</td>\n",
       "      <td>0.6626</td>\n",
       "    </tr>\n",
       "    <tr>\n",
       "      <th>13</th>\n",
       "      <td>0.321714</td>\n",
       "      <td>0.88574</td>\n",
       "      <td>1.406498</td>\n",
       "      <td>0.6597</td>\n",
       "    </tr>\n",
       "    <tr>\n",
       "      <th>14</th>\n",
       "      <td>0.287558</td>\n",
       "      <td>0.89720</td>\n",
       "      <td>1.572571</td>\n",
       "      <td>0.6548</td>\n",
       "    </tr>\n",
       "    <tr>\n",
       "      <th>15</th>\n",
       "      <td>0.254470</td>\n",
       "      <td>0.90894</td>\n",
       "      <td>1.658826</td>\n",
       "      <td>0.6581</td>\n",
       "    </tr>\n",
       "    <tr>\n",
       "      <th>16</th>\n",
       "      <td>0.232314</td>\n",
       "      <td>0.91666</td>\n",
       "      <td>1.754147</td>\n",
       "      <td>0.6474</td>\n",
       "    </tr>\n",
       "  </tbody>\n",
       "</table>\n",
       "</div>"
      ],
      "text/plain": [
       "        loss  accuracy  val_loss  val_accuracy\n",
       "0   1.508087   0.45452  1.304220        0.5385\n",
       "1   1.187231   0.58138  1.150802        0.5929\n",
       "2   1.045229   0.63148  1.049765        0.6325\n",
       "3   0.929997   0.67514  1.036611        0.6379\n",
       "4   0.847946   0.70330  1.007174        0.6539\n",
       "5   0.769262   0.73062  1.050106        0.6441\n",
       "6   0.699428   0.75514  0.996589        0.6597\n",
       "7   0.632154   0.77878  1.112133        0.6468\n",
       "8   0.567895   0.80162  1.080536        0.6736\n",
       "9   0.508268   0.82252  1.109418        0.6603\n",
       "10  0.453684   0.84176  1.204062        0.6576\n",
       "11  0.408469   0.85558  1.284017        0.6600\n",
       "12  0.356015   0.87396  1.300956        0.6626\n",
       "13  0.321714   0.88574  1.406498        0.6597\n",
       "14  0.287558   0.89720  1.572571        0.6548\n",
       "15  0.254470   0.90894  1.658826        0.6581\n",
       "16  0.232314   0.91666  1.754147        0.6474"
      ]
     },
     "execution_count": 24,
     "metadata": {},
     "output_type": "execute_result"
    }
   ],
   "source": [
    "metrics"
   ]
  },
  {
   "cell_type": "code",
   "execution_count": 25,
   "metadata": {},
   "outputs": [],
   "source": [
    "from sklearn.metrics import classification_report, confusion_matrix"
   ]
  },
  {
   "cell_type": "code",
   "execution_count": 26,
   "metadata": {},
   "outputs": [],
   "source": [
    "predictions=model.predict_classes(x=x_test)"
   ]
  },
  {
   "cell_type": "code",
   "execution_count": 27,
   "metadata": {},
   "outputs": [],
   "source": [
    "classes=['airplane','automobile','bird','cat','deer','dog','frog','horse','ship','truck']"
   ]
  },
  {
   "cell_type": "code",
   "execution_count": 28,
   "metadata": {},
   "outputs": [
    {
     "name": "stdout",
     "output_type": "stream",
     "text": [
      "              precision    recall  f1-score   support\n",
      "\n",
      "    airplane       0.70      0.65      0.68      1000\n",
      "  automobile       0.81      0.72      0.76      1000\n",
      "        bird       0.54      0.56      0.55      1000\n",
      "         cat       0.47      0.45      0.46      1000\n",
      "        deer       0.59      0.58      0.59      1000\n",
      "         dog       0.49      0.62      0.55      1000\n",
      "        frog       0.69      0.73      0.71      1000\n",
      "       horse       0.74      0.66      0.70      1000\n",
      "        ship       0.79      0.74      0.76      1000\n",
      "       truck       0.72      0.75      0.74      1000\n",
      "\n",
      "    accuracy                           0.65     10000\n",
      "   macro avg       0.65      0.65      0.65     10000\n",
      "weighted avg       0.65      0.65      0.65     10000\n",
      "\n"
     ]
    }
   ],
   "source": [
    "print(classification_report(y_true=y_test, y_pred=predictions, target_names=classes))"
   ]
  },
  {
   "cell_type": "code",
   "execution_count": 29,
   "metadata": {},
   "outputs": [
    {
     "name": "stdout",
     "output_type": "stream",
     "text": [
      "[[651  26 109  17  33  13  15  18  70  48]\n",
      " [ 33 719  17  16   9  17  32   3  37 117]\n",
      " [ 48   5 565  86  86  89  68  30  11  12]\n",
      " [ 21  16  63 452  79 223  68  41  15  22]\n",
      " [ 17   5  97  73 585  86  58  68   6   5]\n",
      " [ 19   5  50 163  53 618  39  42   7   4]\n",
      " [ 10   1  61  59  44  68 734  11   5   7]\n",
      " [ 15   6  35  59  68 100  22 663   6  26]\n",
      " [ 71  37  33  20  16  16  13  10 739  45]\n",
      " [ 41  67  22  16  11  24  17  10  44 748]]\n"
     ]
    }
   ],
   "source": [
    "print(confusion_matrix(y_true=y_test, y_pred=predictions))"
   ]
  },
  {
   "cell_type": "code",
   "execution_count": 30,
   "metadata": {},
   "outputs": [],
   "source": [
    "import seaborn as sns"
   ]
  },
  {
   "cell_type": "code",
   "execution_count": 31,
   "metadata": {},
   "outputs": [
    {
     "data": {
      "text/plain": [
       "<matplotlib.axes._subplots.AxesSubplot at 0x276c0d75048>"
      ]
     },
     "execution_count": 31,
     "metadata": {},
     "output_type": "execute_result"
    },
    {
     "data": {
      "image/png": "[encoded data removed]",
      "text/plain": [
       "<Figure size 432x288 with 2 Axes>"
      ]
     },
     "metadata": {
      "needs_background": "light"
     },
     "output_type": "display_data"
    }
   ],
   "source": [
    "sns.heatmap(data=confusion_matrix(y_true=y_test, y_pred=predictions))"
   ]
  },
  {
   "cell_type": "code",
   "execution_count": 32,
   "metadata": {},
   "outputs": [
    {
     "data": {
      "text/plain": [
       "Text(0.5, 1.0, 'True label : [1] Prediction : 1')"
      ]
     },
     "execution_count": 32,
     "metadata": {},
     "output_type": "execute_result"
    },
    {
     "data": {
      "image/png": "[encoded data removed]",
      "text/plain": [
       "<Figure size 432x288 with 1 Axes>"
      ]
     },
     "metadata": {
      "needs_background": "light"
     },
     "output_type": "display_data"
    }
   ],
   "source": [
    "misclassified_idx = np.where(predictions != y_test)[0]\n",
    "i = np.random.choice(misclassified_idx)\n",
    "plt.imshow(x_test[i].reshape(32,32,3), cmap='gray')\n",
    "plt.title('True label : {} Prediction : {}'.format(y_test[i],predictions[i]))"
   ]
  },
  {
   "cell_type": "code",
   "execution_count": 51,
   "metadata": {},
   "outputs": [],
   "source": [
    "image = x_test[571]"
   ]
  },
  {
   "cell_type": "code",
   "execution_count": 52,
   "metadata": {},
   "outputs": [
    {
     "data": {
      "text/plain": [
       "<matplotlib.image.AxesImage at 0x276c11cbc08>"
      ]
     },
     "execution_count": 52,
     "metadata": {},
     "output_type": "execute_result"
    },
    {
     "data": {
      "image/png": "[encoded data removed]",
      "text/plain": [
       "<Figure size 432x288 with 1 Axes>"
      ]
     },
     "metadata": {
      "needs_background": "light"
     },
     "output_type": "display_data"
    }
   ],
   "source": [
    "plt.imshow(image)"
   ]
  },
  {
   "cell_type": "code",
   "execution_count": 53,
   "metadata": {},
   "outputs": [
    {
     "data": {
      "text/plain": [
       "array([7], dtype=uint8)"
      ]
     },
     "execution_count": 53,
     "metadata": {},
     "output_type": "execute_result"
    }
   ],
   "source": [
    "y_test[571]"
   ]
  },
  {
   "cell_type": "code",
   "execution_count": 54,
   "metadata": {},
   "outputs": [
    {
     "data": {
      "text/plain": [
       "(32, 32, 3)"
      ]
     },
     "execution_count": 54,
     "metadata": {},
     "output_type": "execute_result"
    }
   ],
   "source": [
    "image.shape"
   ]
  },
  {
   "cell_type": "code",
   "execution_count": 55,
   "metadata": {},
   "outputs": [
    {
     "data": {
      "text/plain": [
       "array([7], dtype=int64)"
      ]
     },
     "execution_count": 55,
     "metadata": {},
     "output_type": "execute_result"
    }
   ],
   "source": [
    "model.predict_classes(image.reshape(1,32,32,3))"
   ]
  }
 ],
 "metadata": {
  "kernelspec": {
   "display_name": "tf",
   "language": "python",
   "name": "tf"
  },
  "language_info": {
   "codemirror_mode": {
    "name": "ipython",
    "version": 3
   },
   "file_extension": ".py",
   "mimetype": "text/x-python",
   "name": "python",
   "nbconvert_exporter": "python",
   "pygments_lexer": "ipython3",
   "version": "3.7.6"
  }
 },
 "nbformat": 4,
 "nbformat_minor": 4
}
