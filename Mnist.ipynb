{
 "cells": [
  {
   "cell_type": "code",
   "execution_count": 1,
   "metadata": {},
   "outputs": [],
   "source": [
    "from tensorflow.keras.datasets import mnist\n",
    "from tensorflow.keras.models import Sequential\n",
    "from tensorflow.keras.layers import Flatten, Dense, Dropout\n",
    "from tensorflow.keras.callbacks import EarlyStopping"
   ]
  },
  {
   "cell_type": "code",
   "execution_count": 2,
   "metadata": {},
   "outputs": [],
   "source": [
    "#downlad mnist Data Set\n",
    "(X_train, y_train), (X_test, y_test) = mnist.load_data()"
   ]
  },
  {
   "cell_type": "code",
   "execution_count": 3,
   "metadata": {},
   "outputs": [
    {
     "data": {
      "text/plain": [
       "(60000, 28, 28)"
      ]
     },
     "execution_count": 3,
     "metadata": {},
     "output_type": "execute_result"
    }
   ],
   "source": [
    "X_train.shape"
   ]
  },
  {
   "cell_type": "code",
   "execution_count": 4,
   "metadata": {},
   "outputs": [
    {
     "data": {
      "text/plain": [
       "255"
      ]
     },
     "execution_count": 4,
     "metadata": {},
     "output_type": "execute_result"
    }
   ],
   "source": [
    "#maximum value of X_train\n",
    "X_train.max()"
   ]
  },
  {
   "cell_type": "code",
   "execution_count": 5,
   "metadata": {},
   "outputs": [],
   "source": [
    "#Normalize data with divided max value '255'\n",
    "X_train, X_test = (X_train/255) , (X_test/255) "
   ]
  },
  {
   "cell_type": "code",
   "execution_count": 6,
   "metadata": {},
   "outputs": [
    {
     "data": {
      "text/plain": [
       "1.0"
      ]
     },
     "execution_count": 6,
     "metadata": {},
     "output_type": "execute_result"
    }
   ],
   "source": [
    "X_train.max()"
   ]
  },
  {
   "cell_type": "code",
   "execution_count": 7,
   "metadata": {},
   "outputs": [],
   "source": [
    "early_stop = EarlyStopping(monitor='val_loss', mode='min', patience=10)"
   ]
  },
  {
   "cell_type": "code",
   "execution_count": 8,
   "metadata": {},
   "outputs": [],
   "source": [
    "model = Sequential()"
   ]
  },
  {
   "cell_type": "code",
   "execution_count": 9,
   "metadata": {},
   "outputs": [],
   "source": [
    "model.add(Flatten(input_shape=(28,28)))\n",
    "model.add(Dense(units=784, activation='relu'))\n",
    "model.add(Dropout(rate=0.3))\n",
    "\n",
    "model.add(Dense(units=397, activation='relu'))\n",
    "model.add(Dropout(rate=0.3))\n",
    "\n",
    "model.add(Dense(units=203, activation='relu'))\n",
    "model.add(Dropout(rate=0.3))\n",
    "\n",
    "model.add(Dense(units=106, activation='relu'))\n",
    "model.add(Dropout(rate=0.3))\n",
    "\n",
    "model.add(Dense(units=10, activation='softmax'))"
   ]
  },
  {
   "cell_type": "code",
   "execution_count": 10,
   "metadata": {},
   "outputs": [],
   "source": [
    "model.compile(optimizer='adam', metrics = ['accuracy'], loss = 'sparse_categorical_crossentropy')"
   ]
  },
  {
   "cell_type": "code",
   "execution_count": 11,
   "metadata": {
    "scrolled": true
   },
   "outputs": [
    {
     "name": "stdout",
     "output_type": "stream",
     "text": [
      "Train on 60000 samples, validate on 10000 samples\n",
      "Epoch 1/500\n",
      "60000/60000 [==============================] - 6s 92us/sample - loss: 0.3281 - accuracy: 0.9050 - val_loss: 0.1543 - val_accuracy: 0.9564\n",
      "Epoch 2/500\n",
      "60000/60000 [==============================] - 5s 78us/sample - loss: 0.1669 - accuracy: 0.9547 - val_loss: 0.1254 - val_accuracy: 0.9625\n",
      "Epoch 3/500\n",
      "60000/60000 [==============================] - 5s 78us/sample - loss: 0.1275 - accuracy: 0.9654 - val_loss: 0.0969 - val_accuracy: 0.9732\n",
      "Epoch 4/500\n",
      "60000/60000 [==============================] - 5s 83us/sample - loss: 0.1122 - accuracy: 0.9696 - val_loss: 0.0839 - val_accuracy: 0.9771\n",
      "Epoch 5/500\n",
      "60000/60000 [==============================] - 5s 81us/sample - loss: 0.1039 - accuracy: 0.9724 - val_loss: 0.0775 - val_accuracy: 0.9787\n",
      "Epoch 6/500\n",
      "60000/60000 [==============================] - 5s 85us/sample - loss: 0.0898 - accuracy: 0.9765 - val_loss: 0.0875 - val_accuracy: 0.9777\n",
      "Epoch 7/500\n",
      "60000/60000 [==============================] - 5s 83us/sample - loss: 0.0840 - accuracy: 0.9774 - val_loss: 0.0792 - val_accuracy: 0.9817\n",
      "Epoch 8/500\n",
      "60000/60000 [==============================] - 5s 86us/sample - loss: 0.0778 - accuracy: 0.9793 - val_loss: 0.0847 - val_accuracy: 0.9795\n",
      "Epoch 9/500\n",
      "60000/60000 [==============================] - 5s 84us/sample - loss: 0.0733 - accuracy: 0.9808 - val_loss: 0.0911 - val_accuracy: 0.9804\n",
      "Epoch 10/500\n",
      "60000/60000 [==============================] - 5s 88us/sample - loss: 0.0721 - accuracy: 0.9821 - val_loss: 0.0837 - val_accuracy: 0.9793\n",
      "Epoch 11/500\n",
      "60000/60000 [==============================] - 5s 81us/sample - loss: 0.0638 - accuracy: 0.9831 - val_loss: 0.0884 - val_accuracy: 0.9812\n",
      "Epoch 12/500\n",
      "60000/60000 [==============================] - 5s 81us/sample - loss: 0.0665 - accuracy: 0.9826 - val_loss: 0.0814 - val_accuracy: 0.9830\n",
      "Epoch 13/500\n",
      "60000/60000 [==============================] - 5s 81us/sample - loss: 0.0605 - accuracy: 0.9840 - val_loss: 0.0889 - val_accuracy: 0.9782\n",
      "Epoch 14/500\n",
      "60000/60000 [==============================] - 5s 88us/sample - loss: 0.0575 - accuracy: 0.9843 - val_loss: 0.0760 - val_accuracy: 0.9833\n",
      "Epoch 15/500\n",
      "60000/60000 [==============================] - 5s 84us/sample - loss: 0.0568 - accuracy: 0.9845 - val_loss: 0.0954 - val_accuracy: 0.9810\n",
      "Epoch 16/500\n",
      "60000/60000 [==============================] - 5s 85us/sample - loss: 0.0582 - accuracy: 0.9857 - val_loss: 0.0905 - val_accuracy: 0.9812\n",
      "Epoch 17/500\n",
      "60000/60000 [==============================] - 5s 87us/sample - loss: 0.0528 - accuracy: 0.9869 - val_loss: 0.1006 - val_accuracy: 0.9829\n",
      "Epoch 18/500\n",
      "60000/60000 [==============================] - 5s 88us/sample - loss: 0.0525 - accuracy: 0.9869 - val_loss: 0.0925 - val_accuracy: 0.9825\n",
      "Epoch 19/500\n",
      "60000/60000 [==============================] - 5s 89us/sample - loss: 0.0477 - accuracy: 0.9879 - val_loss: 0.0921 - val_accuracy: 0.9803\n",
      "Epoch 20/500\n",
      "60000/60000 [==============================] - 5s 87us/sample - loss: 0.0498 - accuracy: 0.9878 - val_loss: 0.1002 - val_accuracy: 0.9801\n",
      "Epoch 21/500\n",
      "60000/60000 [==============================] - 6s 92us/sample - loss: 0.0515 - accuracy: 0.9876 - val_loss: 0.0966 - val_accuracy: 0.9844\n",
      "Epoch 22/500\n",
      "60000/60000 [==============================] - 5s 84us/sample - loss: 0.0479 - accuracy: 0.9889 - val_loss: 0.1132 - val_accuracy: 0.9804\n",
      "Epoch 23/500\n",
      "60000/60000 [==============================] - 5s 82us/sample - loss: 0.0477 - accuracy: 0.9883 - val_loss: 0.1058 - val_accuracy: 0.9829\n",
      "Epoch 24/500\n",
      "60000/60000 [==============================] - 5s 82us/sample - loss: 0.0436 - accuracy: 0.9897 - val_loss: 0.1043 - val_accuracy: 0.9859\n"
     ]
    },
    {
     "data": {
      "text/plain": [
       "<tensorflow.python.keras.callbacks.History at 0x27a5a514c48>"
      ]
     },
     "execution_count": 11,
     "metadata": {},
     "output_type": "execute_result"
    }
   ],
   "source": [
    "model.fit(X_train, y_train, validation_data = (X_test, y_test), epochs = 500, callbacks = [early_stop])"
   ]
  },
  {
   "cell_type": "code",
   "execution_count": 12,
   "metadata": {},
   "outputs": [],
   "source": [
    "import pandas as pd"
   ]
  },
  {
   "cell_type": "code",
   "execution_count": 13,
   "metadata": {},
   "outputs": [],
   "source": [
    "model_loss = pd.DataFrame(model.history.history)"
   ]
  },
  {
   "cell_type": "code",
   "execution_count": 14,
   "metadata": {},
   "outputs": [
    {
     "data": {
      "text/plain": [
       "<matplotlib.axes._subplots.AxesSubplot at 0x27b8460f208>"
      ]
     },
     "execution_count": 14,
     "metadata": {},
     "output_type": "execute_result"
    },
    {
     "data": {
      "image/png": "[encoded data removed]",
      "text/plain": [
       "<Figure size 432x288 with 1 Axes>"
      ]
     },
     "metadata": {
      "needs_background": "light"
     },
     "output_type": "display_data"
    }
   ],
   "source": [
    "model_loss.plot()"
   ]
  },
  {
   "cell_type": "code",
   "execution_count": 15,
   "metadata": {},
   "outputs": [],
   "source": [
    "predictions = model.predict_classes(X_test)"
   ]
  },
  {
   "cell_type": "code",
   "execution_count": 16,
   "metadata": {},
   "outputs": [],
   "source": [
    "from sklearn.metrics import classification_report, confusion_matrix"
   ]
  },
  {
   "cell_type": "code",
   "execution_count": 17,
   "metadata": {},
   "outputs": [
    {
     "name": "stdout",
     "output_type": "stream",
     "text": [
      "[[ 974    1    0    1    0    0    2    1    1    0]\n",
      " [   0 1128    1    2    0    1    2    0    1    0]\n",
      " [   3    0 1013    1    1    0    0    5    8    1]\n",
      " [   1    0    1  998    0    2    0    1    3    4]\n",
      " [   1    1    1    0  965    0    4    2    0    8]\n",
      " [   3    0    0    4    0  876    4    2    2    1]\n",
      " [   3    3    0    0    2    6  941    0    3    0]\n",
      " [   0    3    4    1    0    0    0 1015    2    3]\n",
      " [   3    1    1    3    0    1    0    2  957    6]\n",
      " [   1    2    0    3    6    2    0    2    1  992]]\n"
     ]
    }
   ],
   "source": [
    "print(confusion_matrix(y_test, predictions))"
   ]
  },
  {
   "cell_type": "code",
   "execution_count": 18,
   "metadata": {},
   "outputs": [
    {
     "name": "stdout",
     "output_type": "stream",
     "text": [
      "              precision    recall  f1-score   support\n",
      "\n",
      "           0       0.98      0.99      0.99       980\n",
      "           1       0.99      0.99      0.99      1135\n",
      "           2       0.99      0.98      0.99      1032\n",
      "           3       0.99      0.99      0.99      1010\n",
      "           4       0.99      0.98      0.99       982\n",
      "           5       0.99      0.98      0.98       892\n",
      "           6       0.99      0.98      0.98       958\n",
      "           7       0.99      0.99      0.99      1028\n",
      "           8       0.98      0.98      0.98       974\n",
      "           9       0.98      0.98      0.98      1009\n",
      "\n",
      "    accuracy                           0.99     10000\n",
      "   macro avg       0.99      0.99      0.99     10000\n",
      "weighted avg       0.99      0.99      0.99     10000\n",
      "\n"
     ]
    }
   ],
   "source": [
    "print(classification_report(y_test, predictions))"
   ]
  },
  {
   "cell_type": "code",
   "execution_count": 20,
   "metadata": {},
   "outputs": [],
   "source": [
    "import numpy as np\n",
    "import matplotlib.pyplot as plt"
   ]
  },
  {
   "cell_type": "code",
   "execution_count": 26,
   "metadata": {},
   "outputs": [
    {
     "data": {
      "text/plain": [
       "Text(0.5, 1.0, 'True label : 8 Prediction : 9')"
      ]
     },
     "execution_count": 26,
     "metadata": {},
     "output_type": "execute_result"
    },
    {
     "data": {
      "image/png": "[encoded data removed]",
      "text/plain": [
       "<Figure size 432x288 with 1 Axes>"
      ]
     },
     "metadata": {
      "needs_background": "light"
     },
     "output_type": "display_data"
    }
   ],
   "source": [
    "misclassified_idx = np.where(predictions != y_test)[0]\n",
    "i = np.random.choice(misclassified_idx)\n",
    "plt.imshow(X_test[i], cmap='gray')\n",
    "plt.title('True label : {} Prediction : {}'.format(y_test[i],predictions[i]))"
   ]
  },
  {
   "cell_type": "code",
   "execution_count": null,
   "metadata": {},
   "outputs": [],
   "source": []
  }
 ],
 "metadata": {
  "kernelspec": {
   "display_name": "tf",
   "language": "python",
   "name": "tf"
  },
  "language_info": {
   "codemirror_mode": {
    "name": "ipython",
    "version": 3
   },
   "file_extension": ".py",
   "mimetype": "text/x-python",
   "name": "python",
   "nbconvert_exporter": "python",
   "pygments_lexer": "ipython3",
   "version": "3.7.6"
  }
 },
 "nbformat": 4,
 "nbformat_minor": 4
}
