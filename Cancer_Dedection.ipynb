{
 "cells": [
  {
   "cell_type": "code",
   "execution_count": 1,
   "metadata": {},
   "outputs": [],
   "source": [
    "from sklearn.datasets import load_breast_cancer"
   ]
  },
  {
   "cell_type": "code",
   "execution_count": 2,
   "metadata": {},
   "outputs": [],
   "source": [
    "data = load_breast_cancer()"
   ]
  },
  {
   "cell_type": "code",
   "execution_count": 3,
   "metadata": {},
   "outputs": [
    {
     "data": {
      "text/plain": [
       "sklearn.utils.Bunch"
      ]
     },
     "execution_count": 3,
     "metadata": {},
     "output_type": "execute_result"
    }
   ],
   "source": [
    "type(data)"
   ]
  },
  {
   "cell_type": "code",
   "execution_count": 4,
   "metadata": {},
   "outputs": [
    {
     "data": {
      "text/plain": [
       "dict_keys(['data', 'target', 'target_names', 'DESCR', 'feature_names', 'filename'])"
      ]
     },
     "execution_count": 4,
     "metadata": {},
     "output_type": "execute_result"
    }
   ],
   "source": [
    "data.keys()"
   ]
  },
  {
   "cell_type": "code",
   "execution_count": 5,
   "metadata": {},
   "outputs": [
    {
     "data": {
      "text/plain": [
       "(569, 30)"
      ]
     },
     "execution_count": 5,
     "metadata": {},
     "output_type": "execute_result"
    }
   ],
   "source": [
    "data.data.shape"
   ]
  },
  {
   "cell_type": "code",
   "execution_count": 6,
   "metadata": {},
   "outputs": [
    {
     "data": {
      "text/plain": [
       "array([0, 0, 0, 0, 0, 0, 0, 0, 0, 0, 0, 0, 0, 0, 0, 0, 0, 0, 0, 1, 1, 1,\n",
       "       0, 0, 0, 0, 0, 0, 0, 0, 0, 0, 0, 0, 0, 0, 0, 1, 0, 0, 0, 0, 0, 0,\n",
       "       0, 0, 1, 0, 1, 1, 1, 1, 1, 0, 0, 1, 0, 0, 1, 1, 1, 1, 0, 1, 0, 0,\n",
       "       1, 1, 1, 1, 0, 1, 0, 0, 1, 0, 1, 0, 0, 1, 1, 1, 0, 0, 1, 0, 0, 0,\n",
       "       1, 1, 1, 0, 1, 1, 0, 0, 1, 1, 1, 0, 0, 1, 1, 1, 1, 0, 1, 1, 0, 1,\n",
       "       1, 1, 1, 1, 1, 1, 1, 0, 0, 0, 1, 0, 0, 1, 1, 1, 0, 0, 1, 0, 1, 0,\n",
       "       0, 1, 0, 0, 1, 1, 0, 1, 1, 0, 1, 1, 1, 1, 0, 1, 1, 1, 1, 1, 1, 1,\n",
       "       1, 1, 0, 1, 1, 1, 1, 0, 0, 1, 0, 1, 1, 0, 0, 1, 1, 0, 0, 1, 1, 1,\n",
       "       1, 0, 1, 1, 0, 0, 0, 1, 0, 1, 0, 1, 1, 1, 0, 1, 1, 0, 0, 1, 0, 0,\n",
       "       0, 0, 1, 0, 0, 0, 1, 0, 1, 0, 1, 1, 0, 1, 0, 0, 0, 0, 1, 1, 0, 0,\n",
       "       1, 1, 1, 0, 1, 1, 1, 1, 1, 0, 0, 1, 1, 0, 1, 1, 0, 0, 1, 0, 1, 1,\n",
       "       1, 1, 0, 1, 1, 1, 1, 1, 0, 1, 0, 0, 0, 0, 0, 0, 0, 0, 0, 0, 0, 0,\n",
       "       0, 0, 1, 1, 1, 1, 1, 1, 0, 1, 0, 1, 1, 0, 1, 1, 0, 1, 0, 0, 1, 1,\n",
       "       1, 1, 1, 1, 1, 1, 1, 1, 1, 1, 1, 0, 1, 1, 0, 1, 0, 1, 1, 1, 1, 1,\n",
       "       1, 1, 1, 1, 1, 1, 1, 1, 1, 0, 1, 1, 1, 0, 1, 0, 1, 1, 1, 1, 0, 0,\n",
       "       0, 1, 1, 1, 1, 0, 1, 0, 1, 0, 1, 1, 1, 0, 1, 1, 1, 1, 1, 1, 1, 0,\n",
       "       0, 0, 1, 1, 1, 1, 1, 1, 1, 1, 1, 1, 1, 0, 0, 1, 0, 0, 0, 1, 0, 0,\n",
       "       1, 1, 1, 1, 1, 0, 1, 1, 1, 1, 1, 0, 1, 1, 1, 0, 1, 1, 0, 0, 1, 1,\n",
       "       1, 1, 1, 1, 0, 1, 1, 1, 1, 1, 1, 1, 0, 1, 1, 1, 1, 1, 0, 1, 1, 0,\n",
       "       1, 1, 1, 1, 1, 1, 1, 1, 1, 1, 1, 1, 0, 1, 0, 0, 1, 0, 1, 1, 1, 1,\n",
       "       1, 0, 1, 1, 0, 1, 0, 1, 1, 0, 1, 0, 1, 1, 1, 1, 1, 1, 1, 1, 0, 0,\n",
       "       1, 1, 1, 1, 1, 1, 0, 1, 1, 1, 1, 1, 1, 1, 1, 1, 1, 0, 1, 1, 1, 1,\n",
       "       1, 1, 1, 0, 1, 0, 1, 1, 0, 1, 1, 1, 1, 1, 0, 0, 1, 0, 1, 0, 1, 1,\n",
       "       1, 1, 1, 0, 1, 1, 0, 1, 0, 1, 0, 0, 1, 1, 1, 0, 1, 1, 1, 1, 1, 1,\n",
       "       1, 1, 1, 1, 1, 0, 1, 0, 0, 1, 1, 1, 1, 1, 1, 1, 1, 1, 1, 1, 1, 1,\n",
       "       1, 1, 1, 1, 1, 1, 1, 1, 1, 1, 1, 1, 0, 0, 0, 0, 0, 0, 1])"
      ]
     },
     "execution_count": 6,
     "metadata": {},
     "output_type": "execute_result"
    }
   ],
   "source": [
    "data.target"
   ]
  },
  {
   "cell_type": "code",
   "execution_count": 7,
   "metadata": {},
   "outputs": [
    {
     "data": {
      "text/plain": [
       "array(['malignant', 'benign'], dtype='<U9')"
      ]
     },
     "execution_count": 7,
     "metadata": {},
     "output_type": "execute_result"
    }
   ],
   "source": [
    "data.target_names"
   ]
  },
  {
   "cell_type": "code",
   "execution_count": 8,
   "metadata": {},
   "outputs": [
    {
     "data": {
      "text/plain": [
       "(569,)"
      ]
     },
     "execution_count": 8,
     "metadata": {},
     "output_type": "execute_result"
    }
   ],
   "source": [
    "data.target.shape"
   ]
  },
  {
   "cell_type": "code",
   "execution_count": 9,
   "metadata": {},
   "outputs": [
    {
     "data": {
      "text/plain": [
       "array(['mean radius', 'mean texture', 'mean perimeter', 'mean area',\n",
       "       'mean smoothness', 'mean compactness', 'mean concavity',\n",
       "       'mean concave points', 'mean symmetry', 'mean fractal dimension',\n",
       "       'radius error', 'texture error', 'perimeter error', 'area error',\n",
       "       'smoothness error', 'compactness error', 'concavity error',\n",
       "       'concave points error', 'symmetry error',\n",
       "       'fractal dimension error', 'worst radius', 'worst texture',\n",
       "       'worst perimeter', 'worst area', 'worst smoothness',\n",
       "       'worst compactness', 'worst concavity', 'worst concave points',\n",
       "       'worst symmetry', 'worst fractal dimension'], dtype='<U23')"
      ]
     },
     "execution_count": 9,
     "metadata": {},
     "output_type": "execute_result"
    }
   ],
   "source": [
    "data.feature_names"
   ]
  },
  {
   "cell_type": "code",
   "execution_count": 10,
   "metadata": {},
   "outputs": [],
   "source": [
    "from sklearn.model_selection import train_test_split"
   ]
  },
  {
   "cell_type": "code",
   "execution_count": 11,
   "metadata": {},
   "outputs": [],
   "source": [
    "X = data.data"
   ]
  },
  {
   "cell_type": "code",
   "execution_count": 12,
   "metadata": {},
   "outputs": [],
   "source": [
    "y = data.target"
   ]
  },
  {
   "cell_type": "code",
   "execution_count": 13,
   "metadata": {},
   "outputs": [],
   "source": [
    "X_train, X_test, y_train, y_test = train_test_split(X, y, test_size=0.33, random_state=42)"
   ]
  },
  {
   "cell_type": "code",
   "execution_count": 14,
   "metadata": {},
   "outputs": [],
   "source": [
    "from sklearn.preprocessing import StandardScaler"
   ]
  },
  {
   "cell_type": "code",
   "execution_count": 15,
   "metadata": {},
   "outputs": [],
   "source": [
    "scaler = StandardScaler()"
   ]
  },
  {
   "cell_type": "code",
   "execution_count": 16,
   "metadata": {},
   "outputs": [],
   "source": [
    "X_train = scaler.fit_transform(X_train)"
   ]
  },
  {
   "cell_type": "code",
   "execution_count": 17,
   "metadata": {},
   "outputs": [],
   "source": [
    "X_test = scaler.transform(X_test)"
   ]
  },
  {
   "cell_type": "code",
   "execution_count": 18,
   "metadata": {},
   "outputs": [],
   "source": [
    "from tensorflow.keras.models import Sequential\n",
    "from tensorflow.keras.layers import Dense, Input\n",
    "from tensorflow.keras.callbacks import EarlyStopping"
   ]
  },
  {
   "cell_type": "code",
   "execution_count": 19,
   "metadata": {},
   "outputs": [],
   "source": [
    "early_stop = EarlyStopping(monitor='val_loss', patience=20)"
   ]
  },
  {
   "cell_type": "code",
   "execution_count": 20,
   "metadata": {},
   "outputs": [
    {
     "data": {
      "text/plain": [
       "(381, 30)"
      ]
     },
     "execution_count": 20,
     "metadata": {},
     "output_type": "execute_result"
    }
   ],
   "source": [
    "X_train.shape"
   ]
  },
  {
   "cell_type": "code",
   "execution_count": 21,
   "metadata": {},
   "outputs": [],
   "source": [
    "model = Sequential()"
   ]
  },
  {
   "cell_type": "code",
   "execution_count": 22,
   "metadata": {},
   "outputs": [],
   "source": [
    "model.add(Input(shape=30))\n",
    "model.add(Dense(units=1, activation='sigmoid') )\n",
    "\n",
    "model.compile(optimizer = 'adam', loss = 'binary_crossentropy', metrics=['accuracy'])"
   ]
  },
  {
   "cell_type": "code",
   "execution_count": 23,
   "metadata": {},
   "outputs": [
    {
     "name": "stdout",
     "output_type": "stream",
     "text": [
      "Train on 381 samples, validate on 188 samples\n",
      "Epoch 1/500\n",
      "381/381 [==============================] - 1s 2ms/sample - loss: 0.4381 - accuracy: 0.8320 - val_loss: 0.4015 - val_accuracy: 0.8723\n",
      "Epoch 2/500\n",
      "381/381 [==============================] - 0s 97us/sample - loss: 0.3981 - accuracy: 0.8583 - val_loss: 0.3679 - val_accuracy: 0.8936\n",
      "Epoch 3/500\n",
      "381/381 [==============================] - 0s 94us/sample - loss: 0.3648 - accuracy: 0.8845 - val_loss: 0.3395 - val_accuracy: 0.9043\n",
      "Epoch 4/500\n",
      "381/381 [==============================] - 0s 94us/sample - loss: 0.3362 - accuracy: 0.9003 - val_loss: 0.3162 - val_accuracy: 0.9202\n",
      "Epoch 5/500\n",
      "381/381 [==============================] - 0s 97us/sample - loss: 0.3129 - accuracy: 0.9160 - val_loss: 0.2963 - val_accuracy: 0.9309\n",
      "Epoch 6/500\n",
      "381/381 [==============================] - 0s 115us/sample - loss: 0.2935 - accuracy: 0.9213 - val_loss: 0.2792 - val_accuracy: 0.9362\n",
      "Epoch 7/500\n",
      "381/381 [==============================] - 0s 94us/sample - loss: 0.2762 - accuracy: 0.9265 - val_loss: 0.2645 - val_accuracy: 0.9415\n",
      "Epoch 8/500\n",
      "381/381 [==============================] - 0s 97us/sample - loss: 0.2615 - accuracy: 0.9265 - val_loss: 0.2519 - val_accuracy: 0.9468\n",
      "Epoch 9/500\n",
      "381/381 [==============================] - 0s 94us/sample - loss: 0.2488 - accuracy: 0.9370 - val_loss: 0.2405 - val_accuracy: 0.9468\n",
      "Epoch 10/500\n",
      "381/381 [==============================] - 0s 94us/sample - loss: 0.2375 - accuracy: 0.9396 - val_loss: 0.2304 - val_accuracy: 0.9468\n",
      "Epoch 11/500\n",
      "381/381 [==============================] - 0s 94us/sample - loss: 0.2275 - accuracy: 0.9423 - val_loss: 0.2213 - val_accuracy: 0.9521\n",
      "Epoch 12/500\n",
      "381/381 [==============================] - 0s 94us/sample - loss: 0.2186 - accuracy: 0.9423 - val_loss: 0.2132 - val_accuracy: 0.9521\n",
      "Epoch 13/500\n",
      "381/381 [==============================] - 0s 94us/sample - loss: 0.2105 - accuracy: 0.9449 - val_loss: 0.2057 - val_accuracy: 0.9521\n",
      "Epoch 14/500\n",
      "381/381 [==============================] - 0s 94us/sample - loss: 0.2031 - accuracy: 0.9449 - val_loss: 0.1988 - val_accuracy: 0.9574\n",
      "Epoch 15/500\n",
      "381/381 [==============================] - 0s 94us/sample - loss: 0.1964 - accuracy: 0.9449 - val_loss: 0.1926 - val_accuracy: 0.9574\n",
      "Epoch 16/500\n",
      "381/381 [==============================] - 0s 92us/sample - loss: 0.1903 - accuracy: 0.9475 - val_loss: 0.1869 - val_accuracy: 0.9574\n",
      "Epoch 17/500\n",
      "381/381 [==============================] - 0s 102us/sample - loss: 0.1848 - accuracy: 0.9475 - val_loss: 0.1814 - val_accuracy: 0.9574\n",
      "Epoch 18/500\n",
      "381/381 [==============================] - 0s 97us/sample - loss: 0.1794 - accuracy: 0.9475 - val_loss: 0.1766 - val_accuracy: 0.9574\n",
      "Epoch 19/500\n",
      "381/381 [==============================] - 0s 99us/sample - loss: 0.1747 - accuracy: 0.9554 - val_loss: 0.1720 - val_accuracy: 0.9574\n",
      "Epoch 20/500\n",
      "381/381 [==============================] - 0s 97us/sample - loss: 0.1704 - accuracy: 0.9554 - val_loss: 0.1677 - val_accuracy: 0.9574\n",
      "Epoch 21/500\n",
      "381/381 [==============================] - 0s 102us/sample - loss: 0.1662 - accuracy: 0.9554 - val_loss: 0.1636 - val_accuracy: 0.9574\n",
      "Epoch 22/500\n",
      "381/381 [==============================] - 0s 97us/sample - loss: 0.1626 - accuracy: 0.9606 - val_loss: 0.1597 - val_accuracy: 0.9574\n",
      "Epoch 23/500\n",
      "381/381 [==============================] - 0s 97us/sample - loss: 0.1588 - accuracy: 0.9606 - val_loss: 0.1562 - val_accuracy: 0.9574\n",
      "Epoch 24/500\n",
      "381/381 [==============================] - 0s 97us/sample - loss: 0.1555 - accuracy: 0.9633 - val_loss: 0.1528 - val_accuracy: 0.9574\n",
      "Epoch 25/500\n",
      "381/381 [==============================] - 0s 94us/sample - loss: 0.1524 - accuracy: 0.9633 - val_loss: 0.1497 - val_accuracy: 0.9574\n",
      "Epoch 26/500\n",
      "381/381 [==============================] - 0s 94us/sample - loss: 0.1495 - accuracy: 0.9633 - val_loss: 0.1467 - val_accuracy: 0.9574\n",
      "Epoch 27/500\n",
      "381/381 [==============================] - 0s 94us/sample - loss: 0.1466 - accuracy: 0.9633 - val_loss: 0.1440 - val_accuracy: 0.9574\n",
      "Epoch 28/500\n",
      "381/381 [==============================] - 0s 99us/sample - loss: 0.1441 - accuracy: 0.9659 - val_loss: 0.1413 - val_accuracy: 0.9574\n",
      "Epoch 29/500\n",
      "381/381 [==============================] - 0s 97us/sample - loss: 0.1417 - accuracy: 0.9659 - val_loss: 0.1387 - val_accuracy: 0.9574\n",
      "Epoch 30/500\n",
      "381/381 [==============================] - 0s 94us/sample - loss: 0.1394 - accuracy: 0.9685 - val_loss: 0.1362 - val_accuracy: 0.9574\n",
      "Epoch 31/500\n",
      "381/381 [==============================] - 0s 97us/sample - loss: 0.1372 - accuracy: 0.9685 - val_loss: 0.1339 - val_accuracy: 0.9628\n",
      "Epoch 32/500\n",
      "381/381 [==============================] - 0s 99us/sample - loss: 0.1351 - accuracy: 0.9685 - val_loss: 0.1317 - val_accuracy: 0.9628\n",
      "Epoch 33/500\n",
      "381/381 [==============================] - 0s 110us/sample - loss: 0.1331 - accuracy: 0.9711 - val_loss: 0.1296 - val_accuracy: 0.9628\n",
      "Epoch 34/500\n",
      "381/381 [==============================] - 0s 99us/sample - loss: 0.1312 - accuracy: 0.9711 - val_loss: 0.1276 - val_accuracy: 0.9681\n",
      "Epoch 35/500\n",
      "381/381 [==============================] - 0s 94us/sample - loss: 0.1295 - accuracy: 0.9711 - val_loss: 0.1257 - val_accuracy: 0.9681\n",
      "Epoch 36/500\n",
      "381/381 [==============================] - 0s 102us/sample - loss: 0.1277 - accuracy: 0.9738 - val_loss: 0.1239 - val_accuracy: 0.9681\n",
      "Epoch 37/500\n",
      "381/381 [==============================] - 0s 99us/sample - loss: 0.1262 - accuracy: 0.9738 - val_loss: 0.1221 - val_accuracy: 0.9681\n",
      "Epoch 38/500\n",
      "381/381 [==============================] - 0s 97us/sample - loss: 0.1247 - accuracy: 0.9738 - val_loss: 0.1203 - val_accuracy: 0.9681\n",
      "Epoch 39/500\n",
      "381/381 [==============================] - 0s 94us/sample - loss: 0.1231 - accuracy: 0.9764 - val_loss: 0.1187 - val_accuracy: 0.9681\n",
      "Epoch 40/500\n",
      "381/381 [==============================] - 0s 94us/sample - loss: 0.1217 - accuracy: 0.9764 - val_loss: 0.1172 - val_accuracy: 0.9681\n",
      "Epoch 41/500\n",
      "381/381 [==============================] - 0s 97us/sample - loss: 0.1203 - accuracy: 0.9764 - val_loss: 0.1157 - val_accuracy: 0.9681\n",
      "Epoch 42/500\n",
      "381/381 [==============================] - 0s 99us/sample - loss: 0.1191 - accuracy: 0.9764 - val_loss: 0.1143 - val_accuracy: 0.9681\n",
      "Epoch 43/500\n",
      "381/381 [==============================] - 0s 94us/sample - loss: 0.1178 - accuracy: 0.9764 - val_loss: 0.1128 - val_accuracy: 0.9681\n",
      "Epoch 44/500\n",
      "381/381 [==============================] - 0s 105us/sample - loss: 0.1166 - accuracy: 0.9764 - val_loss: 0.1115 - val_accuracy: 0.9681\n",
      "Epoch 45/500\n",
      "381/381 [==============================] - 0s 94us/sample - loss: 0.1155 - accuracy: 0.9764 - val_loss: 0.1102 - val_accuracy: 0.9681\n",
      "Epoch 46/500\n",
      "381/381 [==============================] - 0s 97us/sample - loss: 0.1144 - accuracy: 0.9764 - val_loss: 0.1089 - val_accuracy: 0.9734\n",
      "Epoch 47/500\n",
      "381/381 [==============================] - 0s 97us/sample - loss: 0.1133 - accuracy: 0.9764 - val_loss: 0.1077 - val_accuracy: 0.9734\n",
      "Epoch 48/500\n",
      "381/381 [==============================] - 0s 94us/sample - loss: 0.1123 - accuracy: 0.9764 - val_loss: 0.1065 - val_accuracy: 0.9734\n",
      "Epoch 49/500\n",
      "381/381 [==============================] - 0s 99us/sample - loss: 0.1113 - accuracy: 0.9764 - val_loss: 0.1054 - val_accuracy: 0.9734\n",
      "Epoch 50/500\n",
      "381/381 [==============================] - ETA: 0s - loss: 0.1062 - accuracy: 0.96 - 0s 97us/sample - loss: 0.1104 - accuracy: 0.9764 - val_loss: 0.1043 - val_accuracy: 0.9734\n",
      "Epoch 51/500\n",
      "381/381 [==============================] - 0s 94us/sample - loss: 0.1094 - accuracy: 0.9790 - val_loss: 0.1032 - val_accuracy: 0.9734\n",
      "Epoch 52/500\n",
      "381/381 [==============================] - 0s 97us/sample - loss: 0.1085 - accuracy: 0.9790 - val_loss: 0.1022 - val_accuracy: 0.9734\n",
      "Epoch 53/500\n",
      "381/381 [==============================] - 0s 99us/sample - loss: 0.1077 - accuracy: 0.9790 - val_loss: 0.1011 - val_accuracy: 0.9787\n",
      "Epoch 54/500\n",
      "381/381 [==============================] - 0s 92us/sample - loss: 0.1069 - accuracy: 0.9790 - val_loss: 0.1002 - val_accuracy: 0.9734\n",
      "Epoch 55/500\n",
      "381/381 [==============================] - 0s 94us/sample - loss: 0.1061 - accuracy: 0.9790 - val_loss: 0.0992 - val_accuracy: 0.9787\n",
      "Epoch 56/500\n"
     ]
    },
    {
     "name": "stdout",
     "output_type": "stream",
     "text": [
      "381/381 [==============================] - 0s 97us/sample - loss: 0.1053 - accuracy: 0.9790 - val_loss: 0.0983 - val_accuracy: 0.9787\n",
      "Epoch 57/500\n",
      "381/381 [==============================] - 0s 94us/sample - loss: 0.1045 - accuracy: 0.9816 - val_loss: 0.0975 - val_accuracy: 0.9787\n",
      "Epoch 58/500\n",
      "381/381 [==============================] - 0s 97us/sample - loss: 0.1037 - accuracy: 0.9816 - val_loss: 0.0966 - val_accuracy: 0.9787\n",
      "Epoch 59/500\n",
      "381/381 [==============================] - 0s 94us/sample - loss: 0.1031 - accuracy: 0.9816 - val_loss: 0.0957 - val_accuracy: 0.9787\n",
      "Epoch 60/500\n",
      "381/381 [==============================] - 0s 97us/sample - loss: 0.1024 - accuracy: 0.9816 - val_loss: 0.0950 - val_accuracy: 0.9787\n",
      "Epoch 61/500\n",
      "381/381 [==============================] - 0s 105us/sample - loss: 0.1018 - accuracy: 0.9816 - val_loss: 0.0941 - val_accuracy: 0.9787\n",
      "Epoch 62/500\n",
      "381/381 [==============================] - 0s 92us/sample - loss: 0.1011 - accuracy: 0.9816 - val_loss: 0.0933 - val_accuracy: 0.9787\n",
      "Epoch 63/500\n",
      "381/381 [==============================] - 0s 94us/sample - loss: 0.1004 - accuracy: 0.9816 - val_loss: 0.0926 - val_accuracy: 0.9787\n",
      "Epoch 64/500\n",
      "381/381 [==============================] - 0s 94us/sample - loss: 0.0998 - accuracy: 0.9816 - val_loss: 0.0919 - val_accuracy: 0.9787\n",
      "Epoch 65/500\n",
      "381/381 [==============================] - 0s 94us/sample - loss: 0.0992 - accuracy: 0.9816 - val_loss: 0.0912 - val_accuracy: 0.9787\n",
      "Epoch 66/500\n",
      "381/381 [==============================] - 0s 94us/sample - loss: 0.0986 - accuracy: 0.9816 - val_loss: 0.0905 - val_accuracy: 0.9787\n",
      "Epoch 67/500\n",
      "381/381 [==============================] - 0s 94us/sample - loss: 0.0980 - accuracy: 0.9816 - val_loss: 0.0898 - val_accuracy: 0.9787\n",
      "Epoch 68/500\n",
      "381/381 [==============================] - 0s 94us/sample - loss: 0.0975 - accuracy: 0.9816 - val_loss: 0.0891 - val_accuracy: 0.9787\n",
      "Epoch 69/500\n",
      "381/381 [==============================] - 0s 94us/sample - loss: 0.0970 - accuracy: 0.9816 - val_loss: 0.0885 - val_accuracy: 0.9787\n",
      "Epoch 70/500\n",
      "381/381 [==============================] - 0s 94us/sample - loss: 0.0964 - accuracy: 0.9816 - val_loss: 0.0878 - val_accuracy: 0.9787\n",
      "Epoch 71/500\n",
      "381/381 [==============================] - 0s 94us/sample - loss: 0.0959 - accuracy: 0.9816 - val_loss: 0.0872 - val_accuracy: 0.9787\n",
      "Epoch 72/500\n",
      "381/381 [==============================] - 0s 94us/sample - loss: 0.0954 - accuracy: 0.9816 - val_loss: 0.0866 - val_accuracy: 0.9787\n",
      "Epoch 73/500\n",
      "381/381 [==============================] - 0s 94us/sample - loss: 0.0949 - accuracy: 0.9816 - val_loss: 0.0861 - val_accuracy: 0.9787\n",
      "Epoch 74/500\n",
      "381/381 [==============================] - 0s 94us/sample - loss: 0.0944 - accuracy: 0.9816 - val_loss: 0.0855 - val_accuracy: 0.9787\n",
      "Epoch 75/500\n",
      "381/381 [==============================] - 0s 97us/sample - loss: 0.0939 - accuracy: 0.9816 - val_loss: 0.0849 - val_accuracy: 0.9787\n",
      "Epoch 76/500\n",
      "381/381 [==============================] - 0s 92us/sample - loss: 0.0935 - accuracy: 0.9816 - val_loss: 0.0844 - val_accuracy: 0.9787\n",
      "Epoch 77/500\n",
      "381/381 [==============================] - 0s 94us/sample - loss: 0.0930 - accuracy: 0.9816 - val_loss: 0.0838 - val_accuracy: 0.9787\n",
      "Epoch 78/500\n",
      "381/381 [==============================] - 0s 94us/sample - loss: 0.0926 - accuracy: 0.9816 - val_loss: 0.0833 - val_accuracy: 0.9787\n",
      "Epoch 79/500\n",
      "381/381 [==============================] - 0s 97us/sample - loss: 0.0922 - accuracy: 0.9816 - val_loss: 0.0828 - val_accuracy: 0.9787\n",
      "Epoch 80/500\n",
      "381/381 [==============================] - 0s 94us/sample - loss: 0.0917 - accuracy: 0.9816 - val_loss: 0.0823 - val_accuracy: 0.9787\n",
      "Epoch 81/500\n",
      "381/381 [==============================] - 0s 97us/sample - loss: 0.0913 - accuracy: 0.9816 - val_loss: 0.0818 - val_accuracy: 0.9787\n",
      "Epoch 82/500\n",
      "381/381 [==============================] - 0s 94us/sample - loss: 0.0910 - accuracy: 0.9816 - val_loss: 0.0813 - val_accuracy: 0.9787\n",
      "Epoch 83/500\n",
      "381/381 [==============================] - 0s 94us/sample - loss: 0.0905 - accuracy: 0.9816 - val_loss: 0.0808 - val_accuracy: 0.9787\n",
      "Epoch 84/500\n",
      "381/381 [==============================] - 0s 97us/sample - loss: 0.0901 - accuracy: 0.9816 - val_loss: 0.0804 - val_accuracy: 0.9787\n",
      "Epoch 85/500\n",
      "381/381 [==============================] - 0s 94us/sample - loss: 0.0898 - accuracy: 0.9816 - val_loss: 0.0800 - val_accuracy: 0.9787\n",
      "Epoch 86/500\n",
      "381/381 [==============================] - 0s 99us/sample - loss: 0.0894 - accuracy: 0.9816 - val_loss: 0.0795 - val_accuracy: 0.9787\n",
      "Epoch 87/500\n",
      "381/381 [==============================] - 0s 94us/sample - loss: 0.0890 - accuracy: 0.9816 - val_loss: 0.0790 - val_accuracy: 0.9787\n",
      "Epoch 88/500\n",
      "381/381 [==============================] - 0s 99us/sample - loss: 0.0887 - accuracy: 0.9816 - val_loss: 0.0786 - val_accuracy: 0.9840\n",
      "Epoch 89/500\n",
      "381/381 [==============================] - 0s 105us/sample - loss: 0.0883 - accuracy: 0.9816 - val_loss: 0.0783 - val_accuracy: 0.9787\n",
      "Epoch 90/500\n",
      "381/381 [==============================] - 0s 94us/sample - loss: 0.0880 - accuracy: 0.9816 - val_loss: 0.0778 - val_accuracy: 0.9840\n",
      "Epoch 91/500\n",
      "381/381 [==============================] - 0s 94us/sample - loss: 0.0876 - accuracy: 0.9816 - val_loss: 0.0774 - val_accuracy: 0.9840\n",
      "Epoch 92/500\n",
      "381/381 [==============================] - 0s 94us/sample - loss: 0.0873 - accuracy: 0.9816 - val_loss: 0.0771 - val_accuracy: 0.9840\n",
      "Epoch 93/500\n",
      "381/381 [==============================] - 0s 94us/sample - loss: 0.0870 - accuracy: 0.9816 - val_loss: 0.0766 - val_accuracy: 0.9840\n",
      "Epoch 94/500\n",
      "381/381 [==============================] - 0s 94us/sample - loss: 0.0866 - accuracy: 0.9816 - val_loss: 0.0763 - val_accuracy: 0.9840\n",
      "Epoch 95/500\n",
      "381/381 [==============================] - 0s 94us/sample - loss: 0.0864 - accuracy: 0.9816 - val_loss: 0.0760 - val_accuracy: 0.9840\n",
      "Epoch 96/500\n",
      "381/381 [==============================] - 0s 97us/sample - loss: 0.0860 - accuracy: 0.9816 - val_loss: 0.0756 - val_accuracy: 0.9840\n",
      "Epoch 97/500\n",
      "381/381 [==============================] - ETA: 0s - loss: 0.0724 - accuracy: 1.00 - 0s 94us/sample - loss: 0.0857 - accuracy: 0.9816 - val_loss: 0.0752 - val_accuracy: 0.9840\n",
      "Epoch 98/500\n",
      "381/381 [==============================] - 0s 94us/sample - loss: 0.0854 - accuracy: 0.9816 - val_loss: 0.0749 - val_accuracy: 0.9840\n",
      "Epoch 99/500\n",
      "381/381 [==============================] - 0s 94us/sample - loss: 0.0851 - accuracy: 0.9816 - val_loss: 0.0745 - val_accuracy: 0.9840\n",
      "Epoch 100/500\n",
      "381/381 [==============================] - 0s 94us/sample - loss: 0.0848 - accuracy: 0.9816 - val_loss: 0.0742 - val_accuracy: 0.9840\n",
      "Epoch 101/500\n",
      "381/381 [==============================] - 0s 94us/sample - loss: 0.0845 - accuracy: 0.9816 - val_loss: 0.0739 - val_accuracy: 0.9840\n",
      "Epoch 102/500\n",
      "381/381 [==============================] - 0s 94us/sample - loss: 0.0843 - accuracy: 0.9816 - val_loss: 0.0736 - val_accuracy: 0.9840\n",
      "Epoch 103/500\n",
      "381/381 [==============================] - 0s 92us/sample - loss: 0.0840 - accuracy: 0.9816 - val_loss: 0.0733 - val_accuracy: 0.9840\n",
      "Epoch 104/500\n",
      "381/381 [==============================] - 0s 97us/sample - loss: 0.0837 - accuracy: 0.9816 - val_loss: 0.0729 - val_accuracy: 0.9840\n",
      "Epoch 105/500\n",
      "381/381 [==============================] - 0s 97us/sample - loss: 0.0834 - accuracy: 0.9816 - val_loss: 0.0727 - val_accuracy: 0.9840\n",
      "Epoch 106/500\n",
      "381/381 [==============================] - 0s 99us/sample - loss: 0.0832 - accuracy: 0.9816 - val_loss: 0.0724 - val_accuracy: 0.9840\n",
      "Epoch 107/500\n",
      "381/381 [==============================] - 0s 94us/sample - loss: 0.0830 - accuracy: 0.9816 - val_loss: 0.0721 - val_accuracy: 0.9840\n",
      "Epoch 108/500\n",
      "381/381 [==============================] - 0s 92us/sample - loss: 0.0826 - accuracy: 0.9816 - val_loss: 0.0718 - val_accuracy: 0.9840\n",
      "Epoch 109/500\n",
      "381/381 [==============================] - 0s 102us/sample - loss: 0.0824 - accuracy: 0.9816 - val_loss: 0.0715 - val_accuracy: 0.9840\n",
      "Epoch 110/500\n",
      "381/381 [==============================] - 0s 97us/sample - loss: 0.0821 - accuracy: 0.9816 - val_loss: 0.0713 - val_accuracy: 0.9840\n",
      "Epoch 111/500\n"
     ]
    },
    {
     "name": "stdout",
     "output_type": "stream",
     "text": [
      "381/381 [==============================] - 0s 97us/sample - loss: 0.0819 - accuracy: 0.9816 - val_loss: 0.0710 - val_accuracy: 0.9840\n",
      "Epoch 112/500\n",
      "381/381 [==============================] - 0s 94us/sample - loss: 0.0817 - accuracy: 0.9816 - val_loss: 0.0707 - val_accuracy: 0.9840\n",
      "Epoch 113/500\n",
      "381/381 [==============================] - 0s 94us/sample - loss: 0.0814 - accuracy: 0.9816 - val_loss: 0.0705 - val_accuracy: 0.9840\n",
      "Epoch 114/500\n",
      "381/381 [==============================] - 0s 94us/sample - loss: 0.0812 - accuracy: 0.9816 - val_loss: 0.0702 - val_accuracy: 0.9840\n",
      "Epoch 115/500\n",
      "381/381 [==============================] - 0s 94us/sample - loss: 0.0809 - accuracy: 0.9816 - val_loss: 0.0700 - val_accuracy: 0.9840\n",
      "Epoch 116/500\n",
      "381/381 [==============================] - 0s 105us/sample - loss: 0.0807 - accuracy: 0.9816 - val_loss: 0.0697 - val_accuracy: 0.9840\n",
      "Epoch 117/500\n",
      "381/381 [==============================] - 0s 97us/sample - loss: 0.0805 - accuracy: 0.9816 - val_loss: 0.0694 - val_accuracy: 0.9840\n",
      "Epoch 118/500\n",
      "381/381 [==============================] - 0s 94us/sample - loss: 0.0803 - accuracy: 0.9816 - val_loss: 0.0692 - val_accuracy: 0.9840\n",
      "Epoch 119/500\n",
      "381/381 [==============================] - 0s 94us/sample - loss: 0.0800 - accuracy: 0.9816 - val_loss: 0.0690 - val_accuracy: 0.9840\n",
      "Epoch 120/500\n",
      "381/381 [==============================] - 0s 94us/sample - loss: 0.0798 - accuracy: 0.9816 - val_loss: 0.0688 - val_accuracy: 0.9840\n",
      "Epoch 121/500\n",
      "381/381 [==============================] - 0s 94us/sample - loss: 0.0796 - accuracy: 0.9816 - val_loss: 0.0685 - val_accuracy: 0.9840\n",
      "Epoch 122/500\n",
      "381/381 [==============================] - 0s 97us/sample - loss: 0.0794 - accuracy: 0.9816 - val_loss: 0.0683 - val_accuracy: 0.9840\n",
      "Epoch 123/500\n",
      "381/381 [==============================] - 0s 97us/sample - loss: 0.0792 - accuracy: 0.9843 - val_loss: 0.0681 - val_accuracy: 0.9840\n",
      "Epoch 124/500\n",
      "381/381 [==============================] - 0s 92us/sample - loss: 0.0790 - accuracy: 0.9843 - val_loss: 0.0679 - val_accuracy: 0.9840\n",
      "Epoch 125/500\n",
      "381/381 [==============================] - 0s 92us/sample - loss: 0.0788 - accuracy: 0.9843 - val_loss: 0.0676 - val_accuracy: 0.9840\n",
      "Epoch 126/500\n",
      "381/381 [==============================] - 0s 97us/sample - loss: 0.0786 - accuracy: 0.9843 - val_loss: 0.0674 - val_accuracy: 0.9840\n",
      "Epoch 127/500\n",
      "381/381 [==============================] - 0s 94us/sample - loss: 0.0784 - accuracy: 0.9843 - val_loss: 0.0673 - val_accuracy: 0.9840\n",
      "Epoch 128/500\n",
      "381/381 [==============================] - 0s 97us/sample - loss: 0.0782 - accuracy: 0.9843 - val_loss: 0.0670 - val_accuracy: 0.9840\n",
      "Epoch 129/500\n",
      "381/381 [==============================] - 0s 94us/sample - loss: 0.0780 - accuracy: 0.9869 - val_loss: 0.0668 - val_accuracy: 0.9840\n",
      "Epoch 130/500\n",
      "381/381 [==============================] - 0s 94us/sample - loss: 0.0778 - accuracy: 0.9869 - val_loss: 0.0666 - val_accuracy: 0.9840\n",
      "Epoch 131/500\n",
      "381/381 [==============================] - 0s 94us/sample - loss: 0.0777 - accuracy: 0.9869 - val_loss: 0.0665 - val_accuracy: 0.9840\n",
      "Epoch 132/500\n",
      "381/381 [==============================] - 0s 94us/sample - loss: 0.0774 - accuracy: 0.9869 - val_loss: 0.0663 - val_accuracy: 0.9840\n",
      "Epoch 133/500\n",
      "381/381 [==============================] - 0s 94us/sample - loss: 0.0773 - accuracy: 0.9869 - val_loss: 0.0660 - val_accuracy: 0.9840\n",
      "Epoch 134/500\n",
      "381/381 [==============================] - 0s 94us/sample - loss: 0.0771 - accuracy: 0.9869 - val_loss: 0.0659 - val_accuracy: 0.9840\n",
      "Epoch 135/500\n",
      "381/381 [==============================] - 0s 94us/sample - loss: 0.0769 - accuracy: 0.9869 - val_loss: 0.0657 - val_accuracy: 0.9840\n",
      "Epoch 136/500\n",
      "381/381 [==============================] - 0s 94us/sample - loss: 0.0768 - accuracy: 0.9869 - val_loss: 0.0655 - val_accuracy: 0.9840\n",
      "Epoch 137/500\n",
      "381/381 [==============================] - 0s 94us/sample - loss: 0.0765 - accuracy: 0.9869 - val_loss: 0.0654 - val_accuracy: 0.9840\n",
      "Epoch 138/500\n",
      "381/381 [==============================] - 0s 97us/sample - loss: 0.0764 - accuracy: 0.9869 - val_loss: 0.0652 - val_accuracy: 0.9840\n",
      "Epoch 139/500\n",
      "381/381 [==============================] - 0s 94us/sample - loss: 0.0762 - accuracy: 0.9869 - val_loss: 0.0650 - val_accuracy: 0.9840\n",
      "Epoch 140/500\n",
      "381/381 [==============================] - 0s 94us/sample - loss: 0.0760 - accuracy: 0.9869 - val_loss: 0.0648 - val_accuracy: 0.9840\n",
      "Epoch 141/500\n",
      "381/381 [==============================] - 0s 94us/sample - loss: 0.0759 - accuracy: 0.9869 - val_loss: 0.0647 - val_accuracy: 0.9840\n",
      "Epoch 142/500\n",
      "381/381 [==============================] - 0s 94us/sample - loss: 0.0757 - accuracy: 0.9869 - val_loss: 0.0645 - val_accuracy: 0.9840\n",
      "Epoch 143/500\n",
      "381/381 [==============================] - 0s 94us/sample - loss: 0.0755 - accuracy: 0.9869 - val_loss: 0.0643 - val_accuracy: 0.9840\n",
      "Epoch 144/500\n",
      "381/381 [==============================] - 0s 105us/sample - loss: 0.0754 - accuracy: 0.9869 - val_loss: 0.0642 - val_accuracy: 0.9840\n",
      "Epoch 145/500\n",
      "381/381 [==============================] - 0s 97us/sample - loss: 0.0753 - accuracy: 0.9869 - val_loss: 0.0640 - val_accuracy: 0.9840\n",
      "Epoch 146/500\n",
      "381/381 [==============================] - 0s 94us/sample - loss: 0.0751 - accuracy: 0.9869 - val_loss: 0.0639 - val_accuracy: 0.9840\n",
      "Epoch 147/500\n",
      "381/381 [==============================] - 0s 94us/sample - loss: 0.0749 - accuracy: 0.9869 - val_loss: 0.0637 - val_accuracy: 0.9840\n",
      "Epoch 148/500\n",
      "381/381 [==============================] - 0s 94us/sample - loss: 0.0748 - accuracy: 0.9869 - val_loss: 0.0635 - val_accuracy: 0.9840\n",
      "Epoch 149/500\n",
      "381/381 [==============================] - 0s 97us/sample - loss: 0.0746 - accuracy: 0.9869 - val_loss: 0.0635 - val_accuracy: 0.9840\n",
      "Epoch 150/500\n",
      "381/381 [==============================] - 0s 94us/sample - loss: 0.0744 - accuracy: 0.9869 - val_loss: 0.0633 - val_accuracy: 0.9840\n",
      "Epoch 151/500\n",
      "381/381 [==============================] - 0s 94us/sample - loss: 0.0743 - accuracy: 0.9869 - val_loss: 0.0632 - val_accuracy: 0.9840\n",
      "Epoch 152/500\n",
      "381/381 [==============================] - 0s 94us/sample - loss: 0.0742 - accuracy: 0.9869 - val_loss: 0.0630 - val_accuracy: 0.9840\n",
      "Epoch 153/500\n",
      "381/381 [==============================] - 0s 94us/sample - loss: 0.0740 - accuracy: 0.9869 - val_loss: 0.0629 - val_accuracy: 0.9840\n",
      "Epoch 154/500\n",
      "381/381 [==============================] - 0s 94us/sample - loss: 0.0739 - accuracy: 0.9869 - val_loss: 0.0627 - val_accuracy: 0.9840\n",
      "Epoch 155/500\n",
      "381/381 [==============================] - 0s 97us/sample - loss: 0.0737 - accuracy: 0.9869 - val_loss: 0.0626 - val_accuracy: 0.9840\n",
      "Epoch 156/500\n",
      "381/381 [==============================] - 0s 94us/sample - loss: 0.0736 - accuracy: 0.9869 - val_loss: 0.0624 - val_accuracy: 0.9840\n",
      "Epoch 157/500\n",
      "381/381 [==============================] - 0s 94us/sample - loss: 0.0734 - accuracy: 0.9869 - val_loss: 0.0623 - val_accuracy: 0.9840\n",
      "Epoch 158/500\n",
      "381/381 [==============================] - 0s 94us/sample - loss: 0.0733 - accuracy: 0.9869 - val_loss: 0.0621 - val_accuracy: 0.9840\n",
      "Epoch 159/500\n",
      "381/381 [==============================] - 0s 94us/sample - loss: 0.0732 - accuracy: 0.9869 - val_loss: 0.0620 - val_accuracy: 0.9840\n",
      "Epoch 160/500\n",
      "381/381 [==============================] - 0s 99us/sample - loss: 0.0730 - accuracy: 0.9869 - val_loss: 0.0619 - val_accuracy: 0.9840\n",
      "Epoch 161/500\n",
      "381/381 [==============================] - 0s 94us/sample - loss: 0.0729 - accuracy: 0.9869 - val_loss: 0.0618 - val_accuracy: 0.9840\n",
      "Epoch 162/500\n",
      "381/381 [==============================] - 0s 97us/sample - loss: 0.0728 - accuracy: 0.9869 - val_loss: 0.0616 - val_accuracy: 0.9840\n",
      "Epoch 163/500\n",
      "381/381 [==============================] - 0s 94us/sample - loss: 0.0726 - accuracy: 0.9869 - val_loss: 0.0615 - val_accuracy: 0.9840\n",
      "Epoch 164/500\n",
      "381/381 [==============================] - 0s 94us/sample - loss: 0.0725 - accuracy: 0.9869 - val_loss: 0.0614 - val_accuracy: 0.9840\n",
      "Epoch 165/500\n",
      "381/381 [==============================] - 0s 94us/sample - loss: 0.0724 - accuracy: 0.9869 - val_loss: 0.0613 - val_accuracy: 0.9840\n",
      "Epoch 166/500\n"
     ]
    },
    {
     "name": "stdout",
     "output_type": "stream",
     "text": [
      "381/381 [==============================] - 0s 97us/sample - loss: 0.0722 - accuracy: 0.9869 - val_loss: 0.0612 - val_accuracy: 0.9840\n",
      "Epoch 167/500\n",
      "381/381 [==============================] - 0s 94us/sample - loss: 0.0721 - accuracy: 0.9869 - val_loss: 0.0610 - val_accuracy: 0.9840\n",
      "Epoch 168/500\n",
      "381/381 [==============================] - 0s 94us/sample - loss: 0.0720 - accuracy: 0.9869 - val_loss: 0.0609 - val_accuracy: 0.9840\n",
      "Epoch 169/500\n",
      "381/381 [==============================] - 0s 97us/sample - loss: 0.0719 - accuracy: 0.9869 - val_loss: 0.0608 - val_accuracy: 0.9840\n",
      "Epoch 170/500\n",
      "381/381 [==============================] - 0s 92us/sample - loss: 0.0718 - accuracy: 0.9869 - val_loss: 0.0607 - val_accuracy: 0.9840\n",
      "Epoch 171/500\n",
      "381/381 [==============================] - 0s 94us/sample - loss: 0.0716 - accuracy: 0.9869 - val_loss: 0.0607 - val_accuracy: 0.9840\n",
      "Epoch 172/500\n",
      "381/381 [==============================] - 0s 107us/sample - loss: 0.0715 - accuracy: 0.9869 - val_loss: 0.0606 - val_accuracy: 0.9840\n",
      "Epoch 173/500\n",
      "381/381 [==============================] - 0s 94us/sample - loss: 0.0713 - accuracy: 0.9869 - val_loss: 0.0604 - val_accuracy: 0.9840\n",
      "Epoch 174/500\n",
      "381/381 [==============================] - 0s 94us/sample - loss: 0.0712 - accuracy: 0.9869 - val_loss: 0.0603 - val_accuracy: 0.9840\n",
      "Epoch 175/500\n",
      "381/381 [==============================] - 0s 94us/sample - loss: 0.0711 - accuracy: 0.9869 - val_loss: 0.0602 - val_accuracy: 0.9840\n",
      "Epoch 176/500\n",
      "381/381 [==============================] - 0s 97us/sample - loss: 0.0710 - accuracy: 0.9843 - val_loss: 0.0601 - val_accuracy: 0.9840\n",
      "Epoch 177/500\n",
      "381/381 [==============================] - 0s 102us/sample - loss: 0.0709 - accuracy: 0.9843 - val_loss: 0.0600 - val_accuracy: 0.9840\n",
      "Epoch 178/500\n",
      "381/381 [==============================] - 0s 99us/sample - loss: 0.0708 - accuracy: 0.9843 - val_loss: 0.0599 - val_accuracy: 0.9840\n",
      "Epoch 179/500\n",
      "381/381 [==============================] - 0s 97us/sample - loss: 0.0707 - accuracy: 0.9843 - val_loss: 0.0598 - val_accuracy: 0.9840\n",
      "Epoch 180/500\n",
      "381/381 [==============================] - 0s 97us/sample - loss: 0.0705 - accuracy: 0.9843 - val_loss: 0.0597 - val_accuracy: 0.9840\n",
      "Epoch 181/500\n",
      "381/381 [==============================] - 0s 97us/sample - loss: 0.0705 - accuracy: 0.9843 - val_loss: 0.0595 - val_accuracy: 0.9840\n",
      "Epoch 182/500\n",
      "381/381 [==============================] - 0s 92us/sample - loss: 0.0703 - accuracy: 0.9843 - val_loss: 0.0595 - val_accuracy: 0.9840\n",
      "Epoch 183/500\n",
      "381/381 [==============================] - 0s 97us/sample - loss: 0.0702 - accuracy: 0.9843 - val_loss: 0.0593 - val_accuracy: 0.9840\n",
      "Epoch 184/500\n",
      "381/381 [==============================] - 0s 92us/sample - loss: 0.0701 - accuracy: 0.9843 - val_loss: 0.0593 - val_accuracy: 0.9840\n",
      "Epoch 185/500\n",
      "381/381 [==============================] - 0s 94us/sample - loss: 0.0700 - accuracy: 0.9843 - val_loss: 0.0592 - val_accuracy: 0.9840\n",
      "Epoch 186/500\n",
      "381/381 [==============================] - 0s 94us/sample - loss: 0.0699 - accuracy: 0.9843 - val_loss: 0.0591 - val_accuracy: 0.9840\n",
      "Epoch 187/500\n",
      "381/381 [==============================] - 0s 94us/sample - loss: 0.0698 - accuracy: 0.9843 - val_loss: 0.0590 - val_accuracy: 0.9840\n",
      "Epoch 188/500\n",
      "381/381 [==============================] - 0s 94us/sample - loss: 0.0697 - accuracy: 0.9843 - val_loss: 0.0590 - val_accuracy: 0.9840\n",
      "Epoch 189/500\n",
      "381/381 [==============================] - 0s 92us/sample - loss: 0.0696 - accuracy: 0.9843 - val_loss: 0.0588 - val_accuracy: 0.9840\n",
      "Epoch 190/500\n",
      "381/381 [==============================] - 0s 97us/sample - loss: 0.0695 - accuracy: 0.9843 - val_loss: 0.0587 - val_accuracy: 0.9840\n",
      "Epoch 191/500\n",
      "381/381 [==============================] - ETA: 0s - loss: 0.0215 - accuracy: 1.00 - 0s 94us/sample - loss: 0.0694 - accuracy: 0.9843 - val_loss: 0.0586 - val_accuracy: 0.9840\n",
      "Epoch 192/500\n",
      "381/381 [==============================] - 0s 92us/sample - loss: 0.0693 - accuracy: 0.9843 - val_loss: 0.0586 - val_accuracy: 0.9840\n",
      "Epoch 193/500\n",
      "381/381 [==============================] - 0s 94us/sample - loss: 0.0692 - accuracy: 0.9843 - val_loss: 0.0584 - val_accuracy: 0.9840\n",
      "Epoch 194/500\n",
      "381/381 [==============================] - 0s 99us/sample - loss: 0.0690 - accuracy: 0.9843 - val_loss: 0.0584 - val_accuracy: 0.9840\n",
      "Epoch 195/500\n",
      "381/381 [==============================] - 0s 94us/sample - loss: 0.0689 - accuracy: 0.9843 - val_loss: 0.0584 - val_accuracy: 0.9840\n",
      "Epoch 196/500\n",
      "381/381 [==============================] - 0s 94us/sample - loss: 0.0688 - accuracy: 0.9843 - val_loss: 0.0583 - val_accuracy: 0.9840\n",
      "Epoch 197/500\n",
      "381/381 [==============================] - 0s 94us/sample - loss: 0.0688 - accuracy: 0.9843 - val_loss: 0.0582 - val_accuracy: 0.9840\n",
      "Epoch 198/500\n",
      "381/381 [==============================] - 0s 97us/sample - loss: 0.0687 - accuracy: 0.9843 - val_loss: 0.0581 - val_accuracy: 0.9840\n",
      "Epoch 199/500\n",
      "381/381 [==============================] - 0s 99us/sample - loss: 0.0686 - accuracy: 0.9843 - val_loss: 0.0580 - val_accuracy: 0.9840\n",
      "Epoch 200/500\n",
      "381/381 [==============================] - 0s 105us/sample - loss: 0.0685 - accuracy: 0.9843 - val_loss: 0.0579 - val_accuracy: 0.9840\n",
      "Epoch 201/500\n",
      "381/381 [==============================] - 0s 94us/sample - loss: 0.0684 - accuracy: 0.9843 - val_loss: 0.0578 - val_accuracy: 0.9840\n",
      "Epoch 202/500\n",
      "381/381 [==============================] - 0s 97us/sample - loss: 0.0683 - accuracy: 0.9843 - val_loss: 0.0578 - val_accuracy: 0.9840\n",
      "Epoch 203/500\n",
      "381/381 [==============================] - 0s 97us/sample - loss: 0.0682 - accuracy: 0.9843 - val_loss: 0.0577 - val_accuracy: 0.9840\n",
      "Epoch 204/500\n",
      "381/381 [==============================] - 0s 97us/sample - loss: 0.0681 - accuracy: 0.9843 - val_loss: 0.0575 - val_accuracy: 0.9840\n",
      "Epoch 205/500\n",
      "381/381 [==============================] - 0s 94us/sample - loss: 0.0680 - accuracy: 0.9843 - val_loss: 0.0575 - val_accuracy: 0.9840\n",
      "Epoch 206/500\n",
      "381/381 [==============================] - 0s 92us/sample - loss: 0.0679 - accuracy: 0.9843 - val_loss: 0.0574 - val_accuracy: 0.9840\n",
      "Epoch 207/500\n",
      "381/381 [==============================] - 0s 94us/sample - loss: 0.0678 - accuracy: 0.9843 - val_loss: 0.0574 - val_accuracy: 0.9840\n",
      "Epoch 208/500\n",
      "381/381 [==============================] - 0s 97us/sample - loss: 0.0677 - accuracy: 0.9843 - val_loss: 0.0572 - val_accuracy: 0.9840\n",
      "Epoch 209/500\n",
      "381/381 [==============================] - 0s 92us/sample - loss: 0.0677 - accuracy: 0.9843 - val_loss: 0.0572 - val_accuracy: 0.9840\n",
      "Epoch 210/500\n",
      "381/381 [==============================] - 0s 97us/sample - loss: 0.0676 - accuracy: 0.9843 - val_loss: 0.0572 - val_accuracy: 0.9840\n",
      "Epoch 211/500\n",
      "381/381 [==============================] - 0s 94us/sample - loss: 0.0675 - accuracy: 0.9843 - val_loss: 0.0571 - val_accuracy: 0.9840\n",
      "Epoch 212/500\n",
      "381/381 [==============================] - 0s 94us/sample - loss: 0.0674 - accuracy: 0.9843 - val_loss: 0.0570 - val_accuracy: 0.9840\n",
      "Epoch 213/500\n",
      "381/381 [==============================] - 0s 99us/sample - loss: 0.0673 - accuracy: 0.9843 - val_loss: 0.0570 - val_accuracy: 0.9840\n",
      "Epoch 214/500\n",
      "381/381 [==============================] - 0s 97us/sample - loss: 0.0672 - accuracy: 0.9843 - val_loss: 0.0569 - val_accuracy: 0.9840\n",
      "Epoch 215/500\n",
      "381/381 [==============================] - 0s 94us/sample - loss: 0.0672 - accuracy: 0.9843 - val_loss: 0.0569 - val_accuracy: 0.9840\n",
      "Epoch 216/500\n",
      "381/381 [==============================] - 0s 94us/sample - loss: 0.0670 - accuracy: 0.9843 - val_loss: 0.0568 - val_accuracy: 0.9840\n",
      "Epoch 217/500\n",
      "381/381 [==============================] - 0s 94us/sample - loss: 0.0669 - accuracy: 0.9843 - val_loss: 0.0567 - val_accuracy: 0.9840\n",
      "Epoch 218/500\n",
      "381/381 [==============================] - 0s 97us/sample - loss: 0.0668 - accuracy: 0.9843 - val_loss: 0.0566 - val_accuracy: 0.9840\n",
      "Epoch 219/500\n",
      "381/381 [==============================] - 0s 94us/sample - loss: 0.0668 - accuracy: 0.9869 - val_loss: 0.0566 - val_accuracy: 0.9840\n",
      "Epoch 220/500\n",
      "381/381 [==============================] - 0s 94us/sample - loss: 0.0667 - accuracy: 0.9869 - val_loss: 0.0565 - val_accuracy: 0.9840\n",
      "Epoch 221/500\n"
     ]
    },
    {
     "name": "stdout",
     "output_type": "stream",
     "text": [
      "381/381 [==============================] - 0s 97us/sample - loss: 0.0667 - accuracy: 0.9843 - val_loss: 0.0565 - val_accuracy: 0.9840\n",
      "Epoch 222/500\n",
      "381/381 [==============================] - 0s 92us/sample - loss: 0.0665 - accuracy: 0.9843 - val_loss: 0.0564 - val_accuracy: 0.9840\n",
      "Epoch 223/500\n",
      "381/381 [==============================] - 0s 94us/sample - loss: 0.0664 - accuracy: 0.9843 - val_loss: 0.0564 - val_accuracy: 0.9840\n",
      "Epoch 224/500\n",
      "381/381 [==============================] - 0s 97us/sample - loss: 0.0664 - accuracy: 0.9843 - val_loss: 0.0563 - val_accuracy: 0.9840\n",
      "Epoch 225/500\n",
      "381/381 [==============================] - 0s 97us/sample - loss: 0.0663 - accuracy: 0.9869 - val_loss: 0.0563 - val_accuracy: 0.9840\n",
      "Epoch 226/500\n",
      "381/381 [==============================] - 0s 97us/sample - loss: 0.0662 - accuracy: 0.9869 - val_loss: 0.0562 - val_accuracy: 0.9840\n",
      "Epoch 227/500\n",
      "381/381 [==============================] - 0s 102us/sample - loss: 0.0661 - accuracy: 0.9869 - val_loss: 0.0562 - val_accuracy: 0.9840\n",
      "Epoch 228/500\n",
      "381/381 [==============================] - 0s 97us/sample - loss: 0.0660 - accuracy: 0.9869 - val_loss: 0.0561 - val_accuracy: 0.9840\n",
      "Epoch 229/500\n",
      "381/381 [==============================] - 0s 97us/sample - loss: 0.0660 - accuracy: 0.9869 - val_loss: 0.0560 - val_accuracy: 0.9840\n",
      "Epoch 230/500\n",
      "381/381 [==============================] - 0s 97us/sample - loss: 0.0659 - accuracy: 0.9869 - val_loss: 0.0559 - val_accuracy: 0.9840\n",
      "Epoch 231/500\n",
      "381/381 [==============================] - 0s 97us/sample - loss: 0.0658 - accuracy: 0.9869 - val_loss: 0.0559 - val_accuracy: 0.9840\n",
      "Epoch 232/500\n",
      "381/381 [==============================] - 0s 94us/sample - loss: 0.0658 - accuracy: 0.9869 - val_loss: 0.0558 - val_accuracy: 0.9840\n",
      "Epoch 233/500\n",
      "381/381 [==============================] - 0s 92us/sample - loss: 0.0657 - accuracy: 0.9869 - val_loss: 0.0558 - val_accuracy: 0.9840\n",
      "Epoch 234/500\n",
      "381/381 [==============================] - 0s 94us/sample - loss: 0.0656 - accuracy: 0.9869 - val_loss: 0.0557 - val_accuracy: 0.9840\n",
      "Epoch 235/500\n",
      "381/381 [==============================] - 0s 94us/sample - loss: 0.0655 - accuracy: 0.9869 - val_loss: 0.0557 - val_accuracy: 0.9840\n",
      "Epoch 236/500\n",
      "381/381 [==============================] - 0s 94us/sample - loss: 0.0655 - accuracy: 0.9869 - val_loss: 0.0556 - val_accuracy: 0.9840\n",
      "Epoch 237/500\n",
      "381/381 [==============================] - 0s 92us/sample - loss: 0.0654 - accuracy: 0.9869 - val_loss: 0.0556 - val_accuracy: 0.9840\n",
      "Epoch 238/500\n",
      "381/381 [==============================] - 0s 94us/sample - loss: 0.0652 - accuracy: 0.9869 - val_loss: 0.0555 - val_accuracy: 0.9840\n",
      "Epoch 239/500\n",
      "381/381 [==============================] - 0s 94us/sample - loss: 0.0652 - accuracy: 0.9869 - val_loss: 0.0555 - val_accuracy: 0.9840\n",
      "Epoch 240/500\n",
      "381/381 [==============================] - 0s 97us/sample - loss: 0.0652 - accuracy: 0.9869 - val_loss: 0.0554 - val_accuracy: 0.9840\n",
      "Epoch 241/500\n",
      "381/381 [==============================] - 0s 97us/sample - loss: 0.0650 - accuracy: 0.9869 - val_loss: 0.0554 - val_accuracy: 0.9840\n",
      "Epoch 242/500\n",
      "381/381 [==============================] - 0s 97us/sample - loss: 0.0650 - accuracy: 0.9869 - val_loss: 0.0553 - val_accuracy: 0.9840\n",
      "Epoch 243/500\n",
      "381/381 [==============================] - 0s 94us/sample - loss: 0.0649 - accuracy: 0.9869 - val_loss: 0.0552 - val_accuracy: 0.9840\n",
      "Epoch 244/500\n",
      "381/381 [==============================] - 0s 94us/sample - loss: 0.0648 - accuracy: 0.9869 - val_loss: 0.0551 - val_accuracy: 0.9840\n",
      "Epoch 245/500\n",
      "381/381 [==============================] - 0s 102us/sample - loss: 0.0648 - accuracy: 0.9869 - val_loss: 0.0551 - val_accuracy: 0.9840\n",
      "Epoch 246/500\n",
      "381/381 [==============================] - 0s 97us/sample - loss: 0.0647 - accuracy: 0.9869 - val_loss: 0.0551 - val_accuracy: 0.9840\n",
      "Epoch 247/500\n",
      "381/381 [==============================] - 0s 97us/sample - loss: 0.0646 - accuracy: 0.9869 - val_loss: 0.0550 - val_accuracy: 0.9840\n",
      "Epoch 248/500\n",
      "381/381 [==============================] - 0s 94us/sample - loss: 0.0646 - accuracy: 0.9869 - val_loss: 0.0550 - val_accuracy: 0.9840\n",
      "Epoch 249/500\n",
      "381/381 [==============================] - 0s 97us/sample - loss: 0.0645 - accuracy: 0.9869 - val_loss: 0.0549 - val_accuracy: 0.9840\n",
      "Epoch 250/500\n",
      "381/381 [==============================] - 0s 97us/sample - loss: 0.0644 - accuracy: 0.9869 - val_loss: 0.0549 - val_accuracy: 0.9840\n",
      "Epoch 251/500\n",
      "381/381 [==============================] - 0s 94us/sample - loss: 0.0643 - accuracy: 0.9869 - val_loss: 0.0549 - val_accuracy: 0.9840\n",
      "Epoch 252/500\n",
      "381/381 [==============================] - 0s 94us/sample - loss: 0.0643 - accuracy: 0.9869 - val_loss: 0.0549 - val_accuracy: 0.9840\n",
      "Epoch 253/500\n",
      "381/381 [==============================] - 0s 94us/sample - loss: 0.0642 - accuracy: 0.9869 - val_loss: 0.0549 - val_accuracy: 0.9840\n",
      "Epoch 254/500\n",
      "381/381 [==============================] - 0s 94us/sample - loss: 0.0641 - accuracy: 0.9869 - val_loss: 0.0548 - val_accuracy: 0.9840\n",
      "Epoch 255/500\n",
      "381/381 [==============================] - 0s 110us/sample - loss: 0.0641 - accuracy: 0.9869 - val_loss: 0.0547 - val_accuracy: 0.9840\n",
      "Epoch 256/500\n",
      "381/381 [==============================] - 0s 99us/sample - loss: 0.0640 - accuracy: 0.9869 - val_loss: 0.0547 - val_accuracy: 0.9840\n",
      "Epoch 257/500\n",
      "381/381 [==============================] - 0s 94us/sample - loss: 0.0640 - accuracy: 0.9869 - val_loss: 0.0546 - val_accuracy: 0.9840\n",
      "Epoch 258/500\n",
      "381/381 [==============================] - 0s 94us/sample - loss: 0.0639 - accuracy: 0.9869 - val_loss: 0.0546 - val_accuracy: 0.9840\n",
      "Epoch 259/500\n",
      "381/381 [==============================] - 0s 94us/sample - loss: 0.0638 - accuracy: 0.9869 - val_loss: 0.0545 - val_accuracy: 0.9840\n",
      "Epoch 260/500\n",
      "381/381 [==============================] - 0s 94us/sample - loss: 0.0638 - accuracy: 0.9869 - val_loss: 0.0545 - val_accuracy: 0.9840\n",
      "Epoch 261/500\n",
      "381/381 [==============================] - 0s 94us/sample - loss: 0.0637 - accuracy: 0.9869 - val_loss: 0.0545 - val_accuracy: 0.9840\n",
      "Epoch 262/500\n",
      "381/381 [==============================] - 0s 99us/sample - loss: 0.0636 - accuracy: 0.9869 - val_loss: 0.0544 - val_accuracy: 0.9840\n",
      "Epoch 263/500\n",
      "381/381 [==============================] - 0s 97us/sample - loss: 0.0636 - accuracy: 0.9869 - val_loss: 0.0544 - val_accuracy: 0.9840\n",
      "Epoch 264/500\n",
      "381/381 [==============================] - 0s 97us/sample - loss: 0.0635 - accuracy: 0.9869 - val_loss: 0.0544 - val_accuracy: 0.9840\n",
      "Epoch 265/500\n",
      "381/381 [==============================] - 0s 97us/sample - loss: 0.0635 - accuracy: 0.9869 - val_loss: 0.0544 - val_accuracy: 0.9840\n",
      "Epoch 266/500\n",
      "381/381 [==============================] - 0s 94us/sample - loss: 0.0634 - accuracy: 0.9869 - val_loss: 0.0543 - val_accuracy: 0.9840\n",
      "Epoch 267/500\n",
      "381/381 [==============================] - 0s 94us/sample - loss: 0.0633 - accuracy: 0.9869 - val_loss: 0.0542 - val_accuracy: 0.9840\n",
      "Epoch 268/500\n",
      "381/381 [==============================] - 0s 97us/sample - loss: 0.0632 - accuracy: 0.9869 - val_loss: 0.0542 - val_accuracy: 0.9840\n",
      "Epoch 269/500\n",
      "381/381 [==============================] - 0s 92us/sample - loss: 0.0632 - accuracy: 0.9869 - val_loss: 0.0541 - val_accuracy: 0.9840\n",
      "Epoch 270/500\n",
      "381/381 [==============================] - 0s 97us/sample - loss: 0.0631 - accuracy: 0.9869 - val_loss: 0.0541 - val_accuracy: 0.9840\n",
      "Epoch 271/500\n",
      "381/381 [==============================] - 0s 94us/sample - loss: 0.0631 - accuracy: 0.9869 - val_loss: 0.0541 - val_accuracy: 0.9840\n",
      "Epoch 272/500\n",
      "381/381 [==============================] - 0s 97us/sample - loss: 0.0630 - accuracy: 0.9869 - val_loss: 0.0540 - val_accuracy: 0.9840\n",
      "Epoch 273/500\n",
      "381/381 [==============================] - 0s 97us/sample - loss: 0.0629 - accuracy: 0.9869 - val_loss: 0.0540 - val_accuracy: 0.9840\n",
      "Epoch 274/500\n",
      "381/381 [==============================] - 0s 94us/sample - loss: 0.0629 - accuracy: 0.9869 - val_loss: 0.0540 - val_accuracy: 0.9840\n",
      "Epoch 275/500\n",
      "381/381 [==============================] - 0s 94us/sample - loss: 0.0628 - accuracy: 0.9869 - val_loss: 0.0540 - val_accuracy: 0.9840\n",
      "Epoch 276/500\n"
     ]
    },
    {
     "name": "stdout",
     "output_type": "stream",
     "text": [
      "381/381 [==============================] - 0s 94us/sample - loss: 0.0627 - accuracy: 0.9869 - val_loss: 0.0540 - val_accuracy: 0.9840\n",
      "Epoch 277/500\n",
      "381/381 [==============================] - 0s 94us/sample - loss: 0.0627 - accuracy: 0.9869 - val_loss: 0.0539 - val_accuracy: 0.9840\n",
      "Epoch 278/500\n",
      "381/381 [==============================] - 0s 97us/sample - loss: 0.0626 - accuracy: 0.9869 - val_loss: 0.0539 - val_accuracy: 0.9840\n",
      "Epoch 279/500\n",
      "381/381 [==============================] - 0s 94us/sample - loss: 0.0626 - accuracy: 0.9869 - val_loss: 0.0538 - val_accuracy: 0.9840\n",
      "Epoch 280/500\n",
      "381/381 [==============================] - 0s 94us/sample - loss: 0.0625 - accuracy: 0.9869 - val_loss: 0.0538 - val_accuracy: 0.9840\n",
      "Epoch 281/500\n",
      "381/381 [==============================] - 0s 94us/sample - loss: 0.0625 - accuracy: 0.9869 - val_loss: 0.0538 - val_accuracy: 0.9840\n",
      "Epoch 282/500\n",
      "381/381 [==============================] - 0s 102us/sample - loss: 0.0624 - accuracy: 0.9869 - val_loss: 0.0537 - val_accuracy: 0.9840\n",
      "Epoch 283/500\n",
      "381/381 [==============================] - 0s 102us/sample - loss: 0.0623 - accuracy: 0.9869 - val_loss: 0.0537 - val_accuracy: 0.9840\n",
      "Epoch 284/500\n",
      "381/381 [==============================] - 0s 94us/sample - loss: 0.0623 - accuracy: 0.9869 - val_loss: 0.0537 - val_accuracy: 0.9840\n",
      "Epoch 285/500\n",
      "381/381 [==============================] - 0s 94us/sample - loss: 0.0622 - accuracy: 0.9869 - val_loss: 0.0537 - val_accuracy: 0.9840\n",
      "Epoch 286/500\n",
      "381/381 [==============================] - 0s 94us/sample - loss: 0.0622 - accuracy: 0.9869 - val_loss: 0.0537 - val_accuracy: 0.9840\n",
      "Epoch 287/500\n",
      "381/381 [==============================] - 0s 97us/sample - loss: 0.0621 - accuracy: 0.9869 - val_loss: 0.0536 - val_accuracy: 0.9840\n",
      "Epoch 288/500\n",
      "381/381 [==============================] - 0s 99us/sample - loss: 0.0621 - accuracy: 0.9869 - val_loss: 0.0536 - val_accuracy: 0.9840\n",
      "Epoch 289/500\n",
      "381/381 [==============================] - 0s 99us/sample - loss: 0.0620 - accuracy: 0.9869 - val_loss: 0.0536 - val_accuracy: 0.9840\n",
      "Epoch 290/500\n",
      "381/381 [==============================] - 0s 99us/sample - loss: 0.0619 - accuracy: 0.9869 - val_loss: 0.0536 - val_accuracy: 0.9840\n",
      "Epoch 291/500\n",
      "381/381 [==============================] - 0s 102us/sample - loss: 0.0619 - accuracy: 0.9869 - val_loss: 0.0535 - val_accuracy: 0.9840\n",
      "Epoch 292/500\n",
      "381/381 [==============================] - 0s 97us/sample - loss: 0.0618 - accuracy: 0.9869 - val_loss: 0.0535 - val_accuracy: 0.9840\n",
      "Epoch 293/500\n",
      "381/381 [==============================] - 0s 92us/sample - loss: 0.0618 - accuracy: 0.9869 - val_loss: 0.0534 - val_accuracy: 0.9840\n",
      "Epoch 294/500\n",
      "381/381 [==============================] - 0s 105us/sample - loss: 0.0617 - accuracy: 0.9869 - val_loss: 0.0534 - val_accuracy: 0.9840\n",
      "Epoch 295/500\n",
      "381/381 [==============================] - 0s 99us/sample - loss: 0.0617 - accuracy: 0.9869 - val_loss: 0.0534 - val_accuracy: 0.9840\n",
      "Epoch 296/500\n",
      "381/381 [==============================] - 0s 99us/sample - loss: 0.0616 - accuracy: 0.9869 - val_loss: 0.0534 - val_accuracy: 0.9840\n",
      "Epoch 297/500\n",
      "381/381 [==============================] - 0s 102us/sample - loss: 0.0616 - accuracy: 0.9869 - val_loss: 0.0534 - val_accuracy: 0.9840\n",
      "Epoch 298/500\n",
      "381/381 [==============================] - 0s 99us/sample - loss: 0.0615 - accuracy: 0.9869 - val_loss: 0.0533 - val_accuracy: 0.9840\n",
      "Epoch 299/500\n",
      "381/381 [==============================] - 0s 97us/sample - loss: 0.0615 - accuracy: 0.9869 - val_loss: 0.0533 - val_accuracy: 0.9840\n",
      "Epoch 300/500\n",
      "381/381 [==============================] - 0s 94us/sample - loss: 0.0614 - accuracy: 0.9869 - val_loss: 0.0533 - val_accuracy: 0.9840\n",
      "Epoch 301/500\n",
      "381/381 [==============================] - 0s 94us/sample - loss: 0.0614 - accuracy: 0.9869 - val_loss: 0.0532 - val_accuracy: 0.9840\n",
      "Epoch 302/500\n",
      "381/381 [==============================] - 0s 94us/sample - loss: 0.0613 - accuracy: 0.9869 - val_loss: 0.0532 - val_accuracy: 0.9840\n",
      "Epoch 303/500\n",
      "381/381 [==============================] - 0s 94us/sample - loss: 0.0613 - accuracy: 0.9869 - val_loss: 0.0532 - val_accuracy: 0.9840\n",
      "Epoch 304/500\n",
      "381/381 [==============================] - 0s 94us/sample - loss: 0.0612 - accuracy: 0.9869 - val_loss: 0.0532 - val_accuracy: 0.9840\n",
      "Epoch 305/500\n",
      "381/381 [==============================] - 0s 94us/sample - loss: 0.0611 - accuracy: 0.9869 - val_loss: 0.0532 - val_accuracy: 0.9840\n",
      "Epoch 306/500\n",
      "381/381 [==============================] - 0s 97us/sample - loss: 0.0611 - accuracy: 0.9869 - val_loss: 0.0532 - val_accuracy: 0.9840\n",
      "Epoch 307/500\n",
      "381/381 [==============================] - 0s 94us/sample - loss: 0.0610 - accuracy: 0.9869 - val_loss: 0.0531 - val_accuracy: 0.9840\n",
      "Epoch 308/500\n",
      "381/381 [==============================] - 0s 94us/sample - loss: 0.0610 - accuracy: 0.9869 - val_loss: 0.0531 - val_accuracy: 0.9840\n",
      "Epoch 309/500\n",
      "381/381 [==============================] - 0s 94us/sample - loss: 0.0609 - accuracy: 0.9869 - val_loss: 0.0531 - val_accuracy: 0.9840\n",
      "Epoch 310/500\n",
      "381/381 [==============================] - 0s 115us/sample - loss: 0.0609 - accuracy: 0.9869 - val_loss: 0.0531 - val_accuracy: 0.9840\n",
      "Epoch 311/500\n",
      "381/381 [==============================] - 0s 94us/sample - loss: 0.0609 - accuracy: 0.9869 - val_loss: 0.0530 - val_accuracy: 0.9840\n",
      "Epoch 312/500\n",
      "381/381 [==============================] - 0s 94us/sample - loss: 0.0608 - accuracy: 0.9869 - val_loss: 0.0530 - val_accuracy: 0.9840\n",
      "Epoch 313/500\n",
      "381/381 [==============================] - 0s 97us/sample - loss: 0.0607 - accuracy: 0.9869 - val_loss: 0.0529 - val_accuracy: 0.9840\n",
      "Epoch 314/500\n",
      "381/381 [==============================] - 0s 94us/sample - loss: 0.0607 - accuracy: 0.9869 - val_loss: 0.0529 - val_accuracy: 0.9840\n",
      "Epoch 315/500\n",
      "381/381 [==============================] - 0s 94us/sample - loss: 0.0606 - accuracy: 0.9869 - val_loss: 0.0529 - val_accuracy: 0.9840\n",
      "Epoch 316/500\n",
      "381/381 [==============================] - 0s 97us/sample - loss: 0.0606 - accuracy: 0.9869 - val_loss: 0.0529 - val_accuracy: 0.9840\n",
      "Epoch 317/500\n",
      "381/381 [==============================] - 0s 97us/sample - loss: 0.0605 - accuracy: 0.9869 - val_loss: 0.0529 - val_accuracy: 0.9840\n",
      "Epoch 318/500\n",
      "381/381 [==============================] - 0s 94us/sample - loss: 0.0605 - accuracy: 0.9869 - val_loss: 0.0528 - val_accuracy: 0.9840\n",
      "Epoch 319/500\n",
      "381/381 [==============================] - 0s 97us/sample - loss: 0.0604 - accuracy: 0.9869 - val_loss: 0.0528 - val_accuracy: 0.9840\n",
      "Epoch 320/500\n",
      "381/381 [==============================] - 0s 97us/sample - loss: 0.0604 - accuracy: 0.9869 - val_loss: 0.0528 - val_accuracy: 0.9840\n",
      "Epoch 321/500\n",
      "381/381 [==============================] - 0s 97us/sample - loss: 0.0603 - accuracy: 0.9869 - val_loss: 0.0528 - val_accuracy: 0.9840\n",
      "Epoch 322/500\n",
      "381/381 [==============================] - 0s 97us/sample - loss: 0.0603 - accuracy: 0.9869 - val_loss: 0.0528 - val_accuracy: 0.9840\n",
      "Epoch 323/500\n",
      "381/381 [==============================] - 0s 97us/sample - loss: 0.0603 - accuracy: 0.9869 - val_loss: 0.0527 - val_accuracy: 0.9840\n",
      "Epoch 324/500\n",
      "381/381 [==============================] - 0s 94us/sample - loss: 0.0602 - accuracy: 0.9869 - val_loss: 0.0527 - val_accuracy: 0.9840\n",
      "Epoch 325/500\n",
      "381/381 [==============================] - 0s 94us/sample - loss: 0.0602 - accuracy: 0.9869 - val_loss: 0.0528 - val_accuracy: 0.9840\n",
      "Epoch 326/500\n",
      "381/381 [==============================] - 0s 97us/sample - loss: 0.0601 - accuracy: 0.9869 - val_loss: 0.0527 - val_accuracy: 0.9840\n",
      "Epoch 327/500\n",
      "381/381 [==============================] - 0s 97us/sample - loss: 0.0601 - accuracy: 0.9869 - val_loss: 0.0527 - val_accuracy: 0.9840\n",
      "Epoch 328/500\n",
      "381/381 [==============================] - 0s 97us/sample - loss: 0.0600 - accuracy: 0.9869 - val_loss: 0.0527 - val_accuracy: 0.9840\n",
      "Epoch 329/500\n",
      "381/381 [==============================] - 0s 97us/sample - loss: 0.0600 - accuracy: 0.9869 - val_loss: 0.0526 - val_accuracy: 0.9840\n",
      "Epoch 330/500\n",
      "381/381 [==============================] - 0s 110us/sample - loss: 0.0599 - accuracy: 0.9869 - val_loss: 0.0527 - val_accuracy: 0.9840\n",
      "Epoch 331/500\n"
     ]
    },
    {
     "name": "stdout",
     "output_type": "stream",
     "text": [
      "381/381 [==============================] - 0s 97us/sample - loss: 0.0599 - accuracy: 0.9869 - val_loss: 0.0526 - val_accuracy: 0.9840\n",
      "Epoch 332/500\n",
      "381/381 [==============================] - 0s 97us/sample - loss: 0.0598 - accuracy: 0.9869 - val_loss: 0.0526 - val_accuracy: 0.9840\n",
      "Epoch 333/500\n",
      "381/381 [==============================] - 0s 97us/sample - loss: 0.0598 - accuracy: 0.9869 - val_loss: 0.0527 - val_accuracy: 0.9840\n",
      "Epoch 334/500\n",
      "381/381 [==============================] - 0s 94us/sample - loss: 0.0597 - accuracy: 0.9869 - val_loss: 0.0526 - val_accuracy: 0.9840\n",
      "Epoch 335/500\n",
      "381/381 [==============================] - 0s 94us/sample - loss: 0.0597 - accuracy: 0.9869 - val_loss: 0.0526 - val_accuracy: 0.9840\n",
      "Epoch 336/500\n",
      "381/381 [==============================] - 0s 99us/sample - loss: 0.0596 - accuracy: 0.9869 - val_loss: 0.0526 - val_accuracy: 0.9840\n",
      "Epoch 337/500\n",
      "381/381 [==============================] - 0s 107us/sample - loss: 0.0596 - accuracy: 0.9869 - val_loss: 0.0525 - val_accuracy: 0.9840\n",
      "Epoch 338/500\n",
      "381/381 [==============================] - 0s 94us/sample - loss: 0.0595 - accuracy: 0.9869 - val_loss: 0.0525 - val_accuracy: 0.9840\n",
      "Epoch 339/500\n",
      "381/381 [==============================] - 0s 94us/sample - loss: 0.0596 - accuracy: 0.9869 - val_loss: 0.0525 - val_accuracy: 0.9840\n",
      "Epoch 340/500\n",
      "381/381 [==============================] - 0s 92us/sample - loss: 0.0594 - accuracy: 0.9869 - val_loss: 0.0525 - val_accuracy: 0.9840\n",
      "Epoch 341/500\n",
      "381/381 [==============================] - 0s 97us/sample - loss: 0.0594 - accuracy: 0.9869 - val_loss: 0.0525 - val_accuracy: 0.9840\n",
      "Epoch 342/500\n",
      "381/381 [==============================] - 0s 94us/sample - loss: 0.0594 - accuracy: 0.9869 - val_loss: 0.0524 - val_accuracy: 0.9840\n",
      "Epoch 343/500\n",
      "381/381 [==============================] - 0s 97us/sample - loss: 0.0593 - accuracy: 0.9869 - val_loss: 0.0525 - val_accuracy: 0.9840\n",
      "Epoch 344/500\n",
      "381/381 [==============================] - 0s 97us/sample - loss: 0.0593 - accuracy: 0.9869 - val_loss: 0.0525 - val_accuracy: 0.9840\n",
      "Epoch 345/500\n",
      "381/381 [==============================] - 0s 97us/sample - loss: 0.0592 - accuracy: 0.9869 - val_loss: 0.0524 - val_accuracy: 0.9840\n",
      "Epoch 346/500\n",
      "381/381 [==============================] - 0s 97us/sample - loss: 0.0592 - accuracy: 0.9869 - val_loss: 0.0524 - val_accuracy: 0.9840\n",
      "Epoch 347/500\n",
      "381/381 [==============================] - 0s 99us/sample - loss: 0.0591 - accuracy: 0.9869 - val_loss: 0.0524 - val_accuracy: 0.9840\n",
      "Epoch 348/500\n",
      "381/381 [==============================] - 0s 99us/sample - loss: 0.0591 - accuracy: 0.9869 - val_loss: 0.0524 - val_accuracy: 0.9840\n",
      "Epoch 349/500\n",
      "381/381 [==============================] - 0s 97us/sample - loss: 0.0591 - accuracy: 0.9869 - val_loss: 0.0523 - val_accuracy: 0.9840\n",
      "Epoch 350/500\n",
      "381/381 [==============================] - 0s 97us/sample - loss: 0.0591 - accuracy: 0.9869 - val_loss: 0.0524 - val_accuracy: 0.9840\n",
      "Epoch 351/500\n",
      "381/381 [==============================] - 0s 99us/sample - loss: 0.0590 - accuracy: 0.9869 - val_loss: 0.0524 - val_accuracy: 0.9840\n",
      "Epoch 352/500\n",
      "381/381 [==============================] - 0s 92us/sample - loss: 0.0589 - accuracy: 0.9869 - val_loss: 0.0523 - val_accuracy: 0.9840\n",
      "Epoch 353/500\n",
      "381/381 [==============================] - 0s 94us/sample - loss: 0.0589 - accuracy: 0.9869 - val_loss: 0.0523 - val_accuracy: 0.9840\n",
      "Epoch 354/500\n",
      "381/381 [==============================] - 0s 94us/sample - loss: 0.0588 - accuracy: 0.9869 - val_loss: 0.0523 - val_accuracy: 0.9840\n",
      "Epoch 355/500\n",
      "381/381 [==============================] - 0s 97us/sample - loss: 0.0589 - accuracy: 0.9869 - val_loss: 0.0522 - val_accuracy: 0.9840\n",
      "Epoch 356/500\n",
      "381/381 [==============================] - 0s 94us/sample - loss: 0.0588 - accuracy: 0.9869 - val_loss: 0.0523 - val_accuracy: 0.9840\n",
      "Epoch 357/500\n",
      "381/381 [==============================] - 0s 94us/sample - loss: 0.0587 - accuracy: 0.9869 - val_loss: 0.0523 - val_accuracy: 0.9840\n",
      "Epoch 358/500\n",
      "381/381 [==============================] - 0s 94us/sample - loss: 0.0587 - accuracy: 0.9869 - val_loss: 0.0523 - val_accuracy: 0.9840\n",
      "Epoch 359/500\n",
      "381/381 [==============================] - 0s 94us/sample - loss: 0.0586 - accuracy: 0.9869 - val_loss: 0.0523 - val_accuracy: 0.9840\n",
      "Epoch 360/500\n",
      "381/381 [==============================] - 0s 97us/sample - loss: 0.0586 - accuracy: 0.9869 - val_loss: 0.0523 - val_accuracy: 0.9840\n",
      "Epoch 361/500\n",
      "381/381 [==============================] - 0s 94us/sample - loss: 0.0586 - accuracy: 0.9869 - val_loss: 0.0522 - val_accuracy: 0.9840\n",
      "Epoch 362/500\n",
      "381/381 [==============================] - 0s 97us/sample - loss: 0.0585 - accuracy: 0.9869 - val_loss: 0.0522 - val_accuracy: 0.9840\n",
      "Epoch 363/500\n",
      "381/381 [==============================] - 0s 99us/sample - loss: 0.0585 - accuracy: 0.9869 - val_loss: 0.0522 - val_accuracy: 0.9840\n",
      "Epoch 364/500\n",
      "381/381 [==============================] - 0s 105us/sample - loss: 0.0584 - accuracy: 0.9869 - val_loss: 0.0522 - val_accuracy: 0.9840\n",
      "Epoch 365/500\n",
      "381/381 [==============================] - 0s 102us/sample - loss: 0.0584 - accuracy: 0.9869 - val_loss: 0.0522 - val_accuracy: 0.9840\n",
      "Epoch 366/500\n",
      "381/381 [==============================] - 0s 97us/sample - loss: 0.0584 - accuracy: 0.9869 - val_loss: 0.0522 - val_accuracy: 0.9840\n",
      "Epoch 367/500\n",
      "381/381 [==============================] - 0s 97us/sample - loss: 0.0583 - accuracy: 0.9869 - val_loss: 0.0522 - val_accuracy: 0.9840\n",
      "Epoch 368/500\n",
      "381/381 [==============================] - 0s 97us/sample - loss: 0.0583 - accuracy: 0.9869 - val_loss: 0.0522 - val_accuracy: 0.9840\n",
      "Epoch 369/500\n",
      "381/381 [==============================] - 0s 97us/sample - loss: 0.0583 - accuracy: 0.9869 - val_loss: 0.0522 - val_accuracy: 0.9840\n",
      "Epoch 370/500\n",
      "381/381 [==============================] - 0s 99us/sample - loss: 0.0582 - accuracy: 0.9869 - val_loss: 0.0522 - val_accuracy: 0.9840\n",
      "Epoch 371/500\n",
      "381/381 [==============================] - 0s 97us/sample - loss: 0.0582 - accuracy: 0.9869 - val_loss: 0.0522 - val_accuracy: 0.9840\n",
      "Epoch 372/500\n",
      "381/381 [==============================] - 0s 94us/sample - loss: 0.0581 - accuracy: 0.9869 - val_loss: 0.0522 - val_accuracy: 0.9840\n",
      "Epoch 373/500\n",
      "381/381 [==============================] - 0s 99us/sample - loss: 0.0581 - accuracy: 0.9869 - val_loss: 0.0522 - val_accuracy: 0.9840\n",
      "Epoch 374/500\n",
      "381/381 [==============================] - 0s 99us/sample - loss: 0.0580 - accuracy: 0.9869 - val_loss: 0.0522 - val_accuracy: 0.9840\n",
      "Epoch 375/500\n",
      "381/381 [==============================] - 0s 94us/sample - loss: 0.0580 - accuracy: 0.9869 - val_loss: 0.0521 - val_accuracy: 0.9840\n",
      "Epoch 376/500\n",
      "381/381 [==============================] - 0s 94us/sample - loss: 0.0580 - accuracy: 0.9869 - val_loss: 0.0521 - val_accuracy: 0.9840\n",
      "Epoch 377/500\n",
      "381/381 [==============================] - 0s 94us/sample - loss: 0.0579 - accuracy: 0.9869 - val_loss: 0.0521 - val_accuracy: 0.9840\n",
      "Epoch 378/500\n",
      "381/381 [==============================] - 0s 97us/sample - loss: 0.0580 - accuracy: 0.9869 - val_loss: 0.0522 - val_accuracy: 0.9894\n",
      "Epoch 379/500\n",
      "381/381 [==============================] - 0s 94us/sample - loss: 0.0579 - accuracy: 0.9869 - val_loss: 0.0521 - val_accuracy: 0.9840\n",
      "Epoch 380/500\n",
      "381/381 [==============================] - 0s 94us/sample - loss: 0.0578 - accuracy: 0.9869 - val_loss: 0.0522 - val_accuracy: 0.9840\n",
      "Epoch 381/500\n",
      "381/381 [==============================] - 0s 92us/sample - loss: 0.0578 - accuracy: 0.9869 - val_loss: 0.0521 - val_accuracy: 0.9840\n",
      "Epoch 382/500\n",
      "381/381 [==============================] - 0s 97us/sample - loss: 0.0577 - accuracy: 0.9869 - val_loss: 0.0522 - val_accuracy: 0.9840\n",
      "Epoch 383/500\n",
      "381/381 [==============================] - 0s 94us/sample - loss: 0.0577 - accuracy: 0.9869 - val_loss: 0.0522 - val_accuracy: 0.9840\n",
      "Epoch 384/500\n",
      "381/381 [==============================] - 0s 97us/sample - loss: 0.0576 - accuracy: 0.9869 - val_loss: 0.0521 - val_accuracy: 0.9840\n",
      "Epoch 385/500\n",
      "381/381 [==============================] - 0s 94us/sample - loss: 0.0576 - accuracy: 0.9869 - val_loss: 0.0521 - val_accuracy: 0.9840\n",
      "Epoch 386/500\n"
     ]
    },
    {
     "name": "stdout",
     "output_type": "stream",
     "text": [
      "381/381 [==============================] - 0s 97us/sample - loss: 0.0576 - accuracy: 0.9869 - val_loss: 0.0521 - val_accuracy: 0.9840\n",
      "Epoch 387/500\n",
      "381/381 [==============================] - 0s 97us/sample - loss: 0.0576 - accuracy: 0.9869 - val_loss: 0.0522 - val_accuracy: 0.9840\n",
      "Epoch 388/500\n",
      "381/381 [==============================] - 0s 94us/sample - loss: 0.0575 - accuracy: 0.9869 - val_loss: 0.0521 - val_accuracy: 0.9840\n",
      "Epoch 389/500\n",
      "381/381 [==============================] - 0s 97us/sample - loss: 0.0574 - accuracy: 0.9869 - val_loss: 0.0521 - val_accuracy: 0.9840\n",
      "Epoch 390/500\n",
      "381/381 [==============================] - 0s 102us/sample - loss: 0.0574 - accuracy: 0.9869 - val_loss: 0.0521 - val_accuracy: 0.9840\n",
      "Epoch 391/500\n",
      "381/381 [==============================] - 0s 94us/sample - loss: 0.0574 - accuracy: 0.9869 - val_loss: 0.0521 - val_accuracy: 0.9840\n",
      "Epoch 392/500\n",
      "381/381 [==============================] - 0s 110us/sample - loss: 0.0573 - accuracy: 0.9869 - val_loss: 0.0520 - val_accuracy: 0.9840\n",
      "Epoch 393/500\n",
      "381/381 [==============================] - 0s 99us/sample - loss: 0.0573 - accuracy: 0.9869 - val_loss: 0.0521 - val_accuracy: 0.9840\n",
      "Epoch 394/500\n",
      "381/381 [==============================] - 0s 97us/sample - loss: 0.0573 - accuracy: 0.9869 - val_loss: 0.0521 - val_accuracy: 0.9840\n",
      "Epoch 395/500\n",
      "381/381 [==============================] - 0s 94us/sample - loss: 0.0572 - accuracy: 0.9869 - val_loss: 0.0522 - val_accuracy: 0.9840\n",
      "Epoch 396/500\n",
      "381/381 [==============================] - 0s 94us/sample - loss: 0.0572 - accuracy: 0.9869 - val_loss: 0.0521 - val_accuracy: 0.9840\n",
      "Epoch 397/500\n",
      "381/381 [==============================] - 0s 97us/sample - loss: 0.0572 - accuracy: 0.9869 - val_loss: 0.0521 - val_accuracy: 0.9840\n",
      "Epoch 398/500\n",
      "381/381 [==============================] - 0s 97us/sample - loss: 0.0572 - accuracy: 0.9869 - val_loss: 0.0522 - val_accuracy: 0.9840\n",
      "Epoch 399/500\n",
      "381/381 [==============================] - 0s 94us/sample - loss: 0.0571 - accuracy: 0.9869 - val_loss: 0.0521 - val_accuracy: 0.9840\n",
      "Epoch 400/500\n",
      "381/381 [==============================] - 0s 99us/sample - loss: 0.0570 - accuracy: 0.9869 - val_loss: 0.0521 - val_accuracy: 0.9840\n",
      "Epoch 401/500\n",
      "381/381 [==============================] - 0s 94us/sample - loss: 0.0570 - accuracy: 0.9869 - val_loss: 0.0521 - val_accuracy: 0.9840\n",
      "Epoch 402/500\n",
      "381/381 [==============================] - 0s 94us/sample - loss: 0.0570 - accuracy: 0.9869 - val_loss: 0.0521 - val_accuracy: 0.9840\n",
      "Epoch 403/500\n",
      "381/381 [==============================] - 0s 94us/sample - loss: 0.0570 - accuracy: 0.9869 - val_loss: 0.0522 - val_accuracy: 0.9840\n",
      "Epoch 404/500\n",
      "381/381 [==============================] - 0s 94us/sample - loss: 0.0569 - accuracy: 0.9869 - val_loss: 0.0521 - val_accuracy: 0.9840\n",
      "Epoch 405/500\n",
      "381/381 [==============================] - 0s 97us/sample - loss: 0.0569 - accuracy: 0.9869 - val_loss: 0.0522 - val_accuracy: 0.9840\n",
      "Epoch 406/500\n",
      "381/381 [==============================] - 0s 94us/sample - loss: 0.0568 - accuracy: 0.9869 - val_loss: 0.0522 - val_accuracy: 0.9840\n",
      "Epoch 407/500\n",
      "381/381 [==============================] - 0s 94us/sample - loss: 0.0568 - accuracy: 0.9869 - val_loss: 0.0521 - val_accuracy: 0.9840\n",
      "Epoch 408/500\n",
      "381/381 [==============================] - 0s 94us/sample - loss: 0.0568 - accuracy: 0.9869 - val_loss: 0.0522 - val_accuracy: 0.9840\n",
      "Epoch 409/500\n",
      "381/381 [==============================] - 0s 94us/sample - loss: 0.0567 - accuracy: 0.9869 - val_loss: 0.0522 - val_accuracy: 0.9840\n",
      "Epoch 410/500\n",
      "381/381 [==============================] - 0s 94us/sample - loss: 0.0567 - accuracy: 0.9869 - val_loss: 0.0522 - val_accuracy: 0.9840\n",
      "Epoch 411/500\n",
      "381/381 [==============================] - 0s 99us/sample - loss: 0.0566 - accuracy: 0.9869 - val_loss: 0.0522 - val_accuracy: 0.9840\n",
      "Epoch 412/500\n",
      "381/381 [==============================] - 0s 97us/sample - loss: 0.0566 - accuracy: 0.9869 - val_loss: 0.0522 - val_accuracy: 0.9840\n"
     ]
    },
    {
     "data": {
      "text/plain": [
       "<tensorflow.python.keras.callbacks.History at 0x191e1686f88>"
      ]
     },
     "execution_count": 23,
     "metadata": {},
     "output_type": "execute_result"
    }
   ],
   "source": [
    "model.fit(X_train, y_train, validation_data=(X_test, y_test), epochs = 500, callbacks=[early_stop])"
   ]
  },
  {
   "cell_type": "code",
   "execution_count": 24,
   "metadata": {
    "scrolled": true
   },
   "outputs": [
    {
     "name": "stdout",
     "output_type": "stream",
     "text": [
      "\r",
      "381/1 [======================================================================================================================================================================================================================================================================================================================================================================================================================================================================================================================================================================================================================================================================================================================================================================================================================================================================================================================================================================================================================================================================================================================================================================================================================================================================================================================================================================================================================================================================================================================================================================================================================================================================================================================================================================================================================================================================================================================================================================================================================================================================================================================================================================================================================================================================================================================================================================================================================================================================================================================================================================================================================================================================================================================================================================================================================================================================================================================================================================================================================================================================================================================================================================================================================================================================================================================================================================================================================================================================================================================================================================================================================================================================================================================================================================================================================================================================================================================================================================================================================================================================================================================================================================================================================================================================================================================================================================================================================================================================================================================================================================================================================================================================================================================================================================================================================================================================================================================================================================================================================================================================================================================================================================================================================================================================================================================================================================================================================================================================================================================================================================================================================================================================================================================================================================================================================================================================================================================================================================================================================================================================================================================================================================================================================================================================================================================================================================================================================================================================================================================================================================================================================================================================================================================================================================================================================================================================================================================================================================================================================================================================================================================================================================================================================================================================================================================================================================================================================================================================================================================================================================================================================================================================================================================================================================================================================================================================================================================================================================================================================================================================================================================================================================================================================================================================================================================================================================================================================================================================================================================================================================================================================================================================================================================================================================================================================================================================================================================================================================================================================================================================================================================================================================================================================================================================================================================================================================================================================================================================================================================================================================================================================================================================================================================================================================================================================================================================================================================================================================================================================================================================================================================================================================================================================================================================================================================================================================================================================================================================================================================================================================================================================================================================================================================================================================================================================================================================================================================================================================================================================================================================================================================================================================================================================================================================================================================================================================================================================================================================================================================================================================================================================================================================================================================================================================================================================================================================================================] - 0s 42us/sample - loss: 0.0611 - accuracy: 0.9869\n"
     ]
    },
    {
     "name": "stdout",
     "output_type": "stream",
     "text": [
      "Train score :  [0.05655676941937349, 0.98687667]\n"
     ]
    }
   ],
   "source": [
    "print('Train score : ', model.evaluate(X_train, y_train))"
   ]
  },
  {
   "cell_type": "code",
   "execution_count": 25,
   "metadata": {
    "scrolled": true
   },
   "outputs": [
    {
     "name": "stdout",
     "output_type": "stream",
     "text": [
      "188/1 [========================================================================================================================================================================================================================================================================================================================================================================================================================================================================================================================================================================================================================================================================================================================================================================================================================================================================================================================================================================================================================================================================================================================================================================================================================================================================================================================================================================================================================================================================================================================================================================================================================================================================================================================================================================================================================================================================================================================================================================================================================================================================================================================================================================================================================================================================================================================================================================================================================================================================================================================================================================================================================================================================================================================================================================================================================================================================================================================================================================================================================================================================================================================================================================================================================================================================================================================================================================================================================================================================================================================================================================================================================================================================================================================================================================================================================================================================================================================================================================================================================================================================================================================================================================================================================================================================================================================================================================================================================================================================================================================================================================================================================================================================================================================================================================================================================================================================================================================================================================================================================================================================================================================================================================================================================================================================================================================================================================================================================================================================================================================================================================================================================================================================================================================================================================================================================================================================] - 0s 48us/sample - loss: 0.0635 - accuracy: 0.9840\n",
      "Test Score :  [0.05220842218779503, 0.9840425]\n"
     ]
    }
   ],
   "source": [
    "print('Test Score : ',model.evaluate(X_test, y_test))"
   ]
  },
  {
   "cell_type": "code",
   "execution_count": 26,
   "metadata": {},
   "outputs": [],
   "source": [
    "import matplotlib.pyplot as plt\n",
    "import pandas as pd"
   ]
  },
  {
   "cell_type": "code",
   "execution_count": 27,
   "metadata": {},
   "outputs": [],
   "source": [
    "model_loss = pd.DataFrame(model.history.history)"
   ]
  },
  {
   "cell_type": "code",
   "execution_count": 28,
   "metadata": {},
   "outputs": [
    {
     "data": {
      "text/html": [
       "<div>\n",
       "<style scoped>\n",
       "    .dataframe tbody tr th:only-of-type {\n",
       "        vertical-align: middle;\n",
       "    }\n",
       "\n",
       "    .dataframe tbody tr th {\n",
       "        vertical-align: top;\n",
       "    }\n",
       "\n",
       "    .dataframe thead th {\n",
       "        text-align: right;\n",
       "    }\n",
       "</style>\n",
       "<table border=\"1\" class=\"dataframe\">\n",
       "  <thead>\n",
       "    <tr style=\"text-align: right;\">\n",
       "      <th></th>\n",
       "      <th>loss</th>\n",
       "      <th>accuracy</th>\n",
       "      <th>val_loss</th>\n",
       "      <th>val_accuracy</th>\n",
       "    </tr>\n",
       "  </thead>\n",
       "  <tbody>\n",
       "    <tr>\n",
       "      <th>0</th>\n",
       "      <td>0.438091</td>\n",
       "      <td>0.832021</td>\n",
       "      <td>0.401531</td>\n",
       "      <td>0.872340</td>\n",
       "    </tr>\n",
       "    <tr>\n",
       "      <th>1</th>\n",
       "      <td>0.398095</td>\n",
       "      <td>0.858268</td>\n",
       "      <td>0.367916</td>\n",
       "      <td>0.893617</td>\n",
       "    </tr>\n",
       "    <tr>\n",
       "      <th>2</th>\n",
       "      <td>0.364753</td>\n",
       "      <td>0.884514</td>\n",
       "      <td>0.339540</td>\n",
       "      <td>0.904255</td>\n",
       "    </tr>\n",
       "    <tr>\n",
       "      <th>3</th>\n",
       "      <td>0.336224</td>\n",
       "      <td>0.900262</td>\n",
       "      <td>0.316191</td>\n",
       "      <td>0.920213</td>\n",
       "    </tr>\n",
       "    <tr>\n",
       "      <th>4</th>\n",
       "      <td>0.312897</td>\n",
       "      <td>0.916010</td>\n",
       "      <td>0.296278</td>\n",
       "      <td>0.930851</td>\n",
       "    </tr>\n",
       "    <tr>\n",
       "      <th>...</th>\n",
       "      <td>...</td>\n",
       "      <td>...</td>\n",
       "      <td>...</td>\n",
       "      <td>...</td>\n",
       "    </tr>\n",
       "    <tr>\n",
       "      <th>407</th>\n",
       "      <td>0.056757</td>\n",
       "      <td>0.986877</td>\n",
       "      <td>0.052165</td>\n",
       "      <td>0.984043</td>\n",
       "    </tr>\n",
       "    <tr>\n",
       "      <th>408</th>\n",
       "      <td>0.056711</td>\n",
       "      <td>0.986877</td>\n",
       "      <td>0.052174</td>\n",
       "      <td>0.984043</td>\n",
       "    </tr>\n",
       "    <tr>\n",
       "      <th>409</th>\n",
       "      <td>0.056685</td>\n",
       "      <td>0.986877</td>\n",
       "      <td>0.052233</td>\n",
       "      <td>0.984043</td>\n",
       "    </tr>\n",
       "    <tr>\n",
       "      <th>410</th>\n",
       "      <td>0.056646</td>\n",
       "      <td>0.986877</td>\n",
       "      <td>0.052225</td>\n",
       "      <td>0.984043</td>\n",
       "    </tr>\n",
       "    <tr>\n",
       "      <th>411</th>\n",
       "      <td>0.056619</td>\n",
       "      <td>0.986877</td>\n",
       "      <td>0.052208</td>\n",
       "      <td>0.984043</td>\n",
       "    </tr>\n",
       "  </tbody>\n",
       "</table>\n",
       "<p>412 rows × 4 columns</p>\n",
       "</div>"
      ],
      "text/plain": [
       "         loss  accuracy  val_loss  val_accuracy\n",
       "0    0.438091  0.832021  0.401531      0.872340\n",
       "1    0.398095  0.858268  0.367916      0.893617\n",
       "2    0.364753  0.884514  0.339540      0.904255\n",
       "3    0.336224  0.900262  0.316191      0.920213\n",
       "4    0.312897  0.916010  0.296278      0.930851\n",
       "..        ...       ...       ...           ...\n",
       "407  0.056757  0.986877  0.052165      0.984043\n",
       "408  0.056711  0.986877  0.052174      0.984043\n",
       "409  0.056685  0.986877  0.052233      0.984043\n",
       "410  0.056646  0.986877  0.052225      0.984043\n",
       "411  0.056619  0.986877  0.052208      0.984043\n",
       "\n",
       "[412 rows x 4 columns]"
      ]
     },
     "execution_count": 28,
     "metadata": {},
     "output_type": "execute_result"
    }
   ],
   "source": [
    "model_loss"
   ]
  },
  {
   "cell_type": "code",
   "execution_count": 29,
   "metadata": {},
   "outputs": [
    {
     "data": {
      "text/plain": [
       "<matplotlib.legend.Legend at 0x191edc539c8>"
      ]
     },
     "execution_count": 29,
     "metadata": {},
     "output_type": "execute_result"
    },
    {
     "data": {
      "image/png": "[encoded data removed]",
      "text/plain": [
       "<Figure size 432x288 with 1 Axes>"
      ]
     },
     "metadata": {
      "needs_background": "light"
     },
     "output_type": "display_data"
    }
   ],
   "source": [
    "plt.plot(model_loss['loss'], label='loss')\n",
    "plt.plot(model_loss['val_loss'], label = 'val_loss')\n",
    "plt.legend()"
   ]
  },
  {
   "cell_type": "code",
   "execution_count": 30,
   "metadata": {},
   "outputs": [
    {
     "data": {
      "text/plain": [
       "<matplotlib.legend.Legend at 0x191edb4dc48>"
      ]
     },
     "execution_count": 30,
     "metadata": {},
     "output_type": "execute_result"
    },
    {
     "data": {
      "image/png": "[encoded data removed]",
      "text/plain": [
       "<Figure size 432x288 with 1 Axes>"
      ]
     },
     "metadata": {
      "needs_background": "light"
     },
     "output_type": "display_data"
    }
   ],
   "source": [
    "plt.plot(model_loss['accuracy'], label='accuracy')\n",
    "plt.plot(model_loss['val_accuracy'], label = 'val_accuracy')\n",
    "plt.legend()"
   ]
  },
  {
   "cell_type": "code",
   "execution_count": 31,
   "metadata": {},
   "outputs": [],
   "source": [
    "from sklearn.metrics import classification_report, confusion_matrix"
   ]
  },
  {
   "cell_type": "code",
   "execution_count": 33,
   "metadata": {},
   "outputs": [],
   "source": [
    "predictions = model.predict_classes(X_test)"
   ]
  },
  {
   "cell_type": "code",
   "execution_count": 34,
   "metadata": {},
   "outputs": [
    {
     "name": "stdout",
     "output_type": "stream",
     "text": [
      "[[ 66   1]\n",
      " [  2 119]]\n"
     ]
    }
   ],
   "source": [
    "print(confusion_matrix(y_test, predictions))"
   ]
  },
  {
   "cell_type": "code",
   "execution_count": 35,
   "metadata": {},
   "outputs": [
    {
     "name": "stdout",
     "output_type": "stream",
     "text": [
      "              precision    recall  f1-score   support\n",
      "\n",
      "           0       0.97      0.99      0.98        67\n",
      "           1       0.99      0.98      0.99       121\n",
      "\n",
      "    accuracy                           0.98       188\n",
      "   macro avg       0.98      0.98      0.98       188\n",
      "weighted avg       0.98      0.98      0.98       188\n",
      "\n"
     ]
    }
   ],
   "source": [
    "print(classification_report(y_test, predictions))"
   ]
  },
  {
   "cell_type": "code",
   "execution_count": null,
   "metadata": {},
   "outputs": [],
   "source": []
  }
 ],
 "metadata": {
  "kernelspec": {
   "display_name": "tf",
   "language": "python",
   "name": "tf"
  },
  "language_info": {
   "codemirror_mode": {
    "name": "ipython",
    "version": 3
   },
   "file_extension": ".py",
   "mimetype": "text/x-python",
   "name": "python",
   "nbconvert_exporter": "python",
   "pygments_lexer": "ipython3",
   "version": "3.7.6"
  }
 },
 "nbformat": 4,
 "nbformat_minor": 4
}
